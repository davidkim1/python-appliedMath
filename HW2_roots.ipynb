{
 "cells": [
  {
   "cell_type": "markdown",
   "metadata": {},
   "source": [
    "Before you turn this problem in, make sure everything runs as expected. First, **restart the kernel** (in the menubar, select Kernel$\\rightarrow$Restart) and then **run all cells** (in the menubar, select Cell$\\rightarrow$Run All).\n",
    "\n",
    "Make sure you fill in any place that says `YOUR CODE HERE` or \"YOUR ANSWER HERE\", as well as any collaborators you worked with:"
   ]
  },
  {
   "cell_type": "code",
   "execution_count": 1,
   "metadata": {},
   "outputs": [],
   "source": [
    "COLLABORATORS = \"David Kim & Maya Schuchert\""
   ]
  },
  {
   "cell_type": "markdown",
   "metadata": {},
   "source": [
    "---"
   ]
  },
  {
   "cell_type": "code",
   "execution_count": 2,
   "metadata": {},
   "outputs": [],
   "source": [
    "from __future__ import print_function\n",
    "import numpy\n",
    "import scipy\n",
    "import matplotlib.pyplot as plt\n",
    "import sympy\n",
    "sympy.init_printing()\n",
    "import warnings\n",
    "%matplotlib inline\n"
   ]
  },
  {
   "cell_type": "markdown",
   "metadata": {
    "deletable": false,
    "editable": false,
    "nbgrader": {
     "cell_type": "markdown",
     "checksum": "16a15b070eb04274387730b373ead3b7",
     "grade": false,
     "grade_id": "cell-7752050701682384",
     "locked": true,
     "schema_version": 3,
     "solution": false
    },
    "tags": []
   },
   "source": [
    "# HW 2:  Root Finding and Optimization"
   ]
  },
  {
   "cell_type": "markdown",
   "metadata": {
    "deletable": false,
    "editable": false,
    "nbgrader": {
     "cell_type": "markdown",
     "checksum": "b1026f6bf86b4386a6355f883f07995b",
     "grade": false,
     "grade_id": "cell-8382527651811313",
     "locked": true,
     "schema_version": 3,
     "solution": false
    }
   },
   "source": [
    "## Question 1 - Fun with Fixed Point iteration\n",
    "\n",
    "Let's say that we wanted to calculate $\\sqrt{M}$ given that $M \\in \\mathbb{R}$ and $M > 0$ and that we did not want to use the function `sqrt` directly.  Consider the function \n",
    "\n",
    "$$\n",
    "    f(x) = x^2 - M\n",
    "$$\n",
    "\n",
    "which has a positive root at at $x=\\sqrt{M}$.   Here we will try to solve this using  fixed point iteration\n",
    "\n",
    "$$\n",
    "    x_{k+1} = g(x_k)\n",
    "$$\n",
    "for several different iteration functions $g(x)$ (see below)\n",
    "\n",
    "For each function $g$:\n",
    "\n",
    "- Confirm analytically that $x=\\sqrt{M}$ is a fixed point of $g(x)$\n",
    "- Analyze the convergence behavior close to the fixed-point *for all values* of $\\sqrt{M}$ and determine the stability of the iterative scheme\n",
    "- Now set $M=3$  and $x_0 = 2$.  Make a nicely labeled convergence plot showing the log of the relative error as a function of iteration number.  If the solution converges: \n",
    "    * Describe the convergence rate (linear, quadratic, etc)\n",
    "    * How many iterations are required to reduce the relative error to machine precision?\n",
    "\n",
    "\n",
    "**Remember**: if you want to write $g^\\prime$, remember to use `g^\\prime` rather than `g'` in $\\LaTeX$ (otherwise nbgrader gets very unhappy)"
   ]
  },
  {
   "cell_type": "markdown",
   "metadata": {
    "deletable": false,
    "editable": false,
    "nbgrader": {
     "cell_type": "markdown",
     "checksum": "47d9ae565a714b67099b1500b01a4250",
     "grade": false,
     "grade_id": "cell-7408468548362671",
     "locked": true,
     "schema_version": 3,
     "solution": false
    }
   },
   "source": [
    "**(a)** [4] To help with the last part,  write a short python function to return N iterations of a fixed point iteration."
   ]
  },
  {
   "cell_type": "code",
   "execution_count": 3,
   "metadata": {
    "deletable": false,
    "nbgrader": {
     "cell_type": "code",
     "checksum": "d129be3e3aef3ba4dfe96d293a5310cb",
     "grade": false,
     "grade_id": "cell-5217816963816529",
     "locked": false,
     "schema_version": 3,
     "solution": true
    }
   },
   "outputs": [],
   "source": [
    "def fixed_point(g, x0, N=5):\n",
    "    \"\"\"conduct N iterations of the fixed point iteration x_{k+1} = g(x_k)\n",
    "    \n",
    "    :Input:\n",
    "        - *g* (function) - The iteration function\n",
    "        - *x_0* (float) - Initial guess\n",
    "        - *N* (int) - number of terms in iteration\n",
    "     \n",
    "    :Output:\n",
    "        x: numpy array (float)\n",
    "            array containing the iterations [ x0, x1, ... x_N ]\n",
    "    \"\"\"\n",
    "    x = numpy.empty(N+1)\n",
    "    x[0] = x0\n",
    "    \n",
    "    for i in range(N):\n",
    "        x0 = g(x0)\n",
    "        x[i+1] = x0\n",
    "        \n",
    "    return x"
   ]
  },
  {
   "cell_type": "code",
   "execution_count": 4,
   "metadata": {
    "deletable": false,
    "editable": false,
    "nbgrader": {
     "cell_type": "code",
     "checksum": "62a641c4ff1153c8b1e8e39058a3a5eb",
     "grade": true,
     "grade_id": "cell-5409919424122382",
     "locked": true,
     "points": 4,
     "schema_version": 3,
     "solution": false
    }
   },
   "outputs": [
    {
     "name": "stdout",
     "output_type": "stream",
     "text": [
      "success: passed N=5 test\n",
      "success: passed N=1000 test\n"
     ]
    }
   ],
   "source": [
    "# Testing Cell\n",
    "\n",
    "N = 5\n",
    "g = lambda x: numpy.cos(x)\n",
    "x0 = 1.\n",
    "answer = numpy.array([1., 0.54030231, 0.85755322, 0.65428979, 0.79348036, 0.70136877])\n",
    "\n",
    "x = fixed_point(g, x0, N )\n",
    "numpy.testing.assert_allclose(x, answer)\n",
    "print('success: passed N=5 test')\n",
    "\n",
    "x_true = 0.7390851332153119\n",
    "x = fixed_point(g, x0, 1000)\n",
    "numpy.testing.assert_almost_equal(x[-1],x_true)\n",
    "print('success: passed N=1000 test')"
   ]
  },
  {
   "cell_type": "markdown",
   "metadata": {
    "deletable": false,
    "editable": false,
    "nbgrader": {
     "cell_type": "markdown",
     "checksum": "14b5f732f5aa0e3b5cfeac176c46d19c",
     "grade": false,
     "grade_id": "cell-2533433274902651",
     "locked": true,
     "schema_version": 3,
     "solution": false
    }
   },
   "source": [
    "**(b)** [6] analyze the problem with \n",
    "$$ g(x) = 1 + x - \\frac{x^2}{M}$$"
   ]
  },
  {
   "cell_type": "markdown",
   "metadata": {
    "deletable": false,
    "nbgrader": {
     "cell_type": "markdown",
     "checksum": "f8553ede2a496f25fd88744bab86b8fa",
     "grade": true,
     "grade_id": "cell-340019030337399",
     "locked": false,
     "points": 4,
     "schema_version": 3,
     "solution": true,
     "task": false
    }
   },
   "source": [
    "\\begin{equation}\n",
    "g(\\sqrt{M})=1+\\sqrt{M}-\\frac{\\sqrt{M}^2}{M} \\\\\n",
    "g(\\sqrt{M})=1+\\sqrt{M}-1 \\\\\n",
    "g(\\sqrt{M})=\\sqrt{M} \\\\\n",
    "|g^\\prime(x)|=|1-\\frac{2x}{M}|<1 \\\\\n",
    "\\end{equation}\n",
    "0 $< x < M$ to converge. For $M$ > 1, the fixed point of $\\sqrt{M}$ lies within the interval, therefore the iterative scheme is stable and coverges linearly as shown below"
   ]
  },
  {
   "cell_type": "code",
   "execution_count": 5,
   "metadata": {
    "deletable": false,
    "nbgrader": {
     "cell_type": "code",
     "checksum": "743a196e7f7129d5fdeb501531d96bc2",
     "grade": true,
     "grade_id": "cell-9ea67719fcf6c873",
     "locked": false,
     "points": 2,
     "schema_version": 3,
     "solution": true,
     "task": false
    }
   },
   "outputs": [
    {
     "name": "stdout",
     "output_type": "stream",
     "text": [
      "18 iterations are needed to reduce relative error to machine epselon\n"
     ]
    },
    {
     "data": {
      "image/png": "[encoded data removed]",
      "text/plain": [
       "<Figure size 576x432 with 1 Axes>"
      ]
     },
     "metadata": {
      "needs_background": "light"
     },
     "output_type": "display_data"
    }
   ],
   "source": [
    "fig = plt.figure(figsize=(8, 6))\n",
    "axes = fig.add_subplot(1 , 1, 1)\n",
    "M = 3\n",
    "g = lambda x: 1.0 + x - ((x**2) / M)\n",
    "N = 18\n",
    "x_array = fixed_point(g,2,N)\n",
    "g_array = abs(g(x_array))\n",
    "f = numpy.sqrt(M)\n",
    "r = abs(f - g_array)/f\n",
    "i = numpy.linspace(0.0, N, N+1)\n",
    "axes.grid()\n",
    "axes.set_xlabel('iteration')\n",
    "axes.set_ylabel('relative error')\n",
    "axes.set_title('fixed point iteration of g(x) = 1 + x - x^2/M')\n",
    "axes.set_yscale(\"log\")\n",
    "axes.plot(i, r)\n",
    "axes.set_yscale(\"log\")\n",
    "eps = numpy.finfo(float).eps\n",
    "if r[-1] <= eps:\n",
    "    print(N, \"iterations are needed to reduce relative error to machine epselon\")"
   ]
  },
  {
   "cell_type": "markdown",
   "metadata": {
    "deletable": false,
    "editable": false,
    "nbgrader": {
     "cell_type": "markdown",
     "checksum": "631a3e4c05e43db09ece645a93dd948c",
     "grade": false,
     "grade_id": "cell-2533433274adsfadf1",
     "locked": true,
     "schema_version": 3,
     "solution": false
    }
   },
   "source": [
    " **(c)** [6] analyze the problem with \n",
    "$$ g(x) = \\frac{M}{x}$$"
   ]
  },
  {
   "cell_type": "markdown",
   "metadata": {
    "deletable": false,
    "nbgrader": {
     "cell_type": "markdown",
     "checksum": "4b9b505f2509ac5d4d21866f8f8735d0",
     "grade": true,
     "grade_id": "cell-340019030h348fqoi",
     "locked": false,
     "points": 4,
     "schema_version": 3,
     "solution": true,
     "task": false
    }
   },
   "source": [
    "\\begin{equation}\n",
    "g(\\sqrt{M})= \\frac{M}{\\sqrt{M}}=\\sqrt{M}\\\\\n",
    "|g^\\prime(x)|=|-\\frac{M}{x^2}|<1\\\\\n",
    "\\end{equation}\n",
    "$x < -\\sqrt{M}$ or $x > \\sqrt{M}$ to converge. When x = $\\sqrt{M}$, the scheme is unstable and does not converge, it keeps alternating between x and M/x"
   ]
  },
  {
   "cell_type": "code",
   "execution_count": null,
   "metadata": {
    "deletable": false,
    "nbgrader": {
     "cell_type": "code",
     "checksum": "564a941d39f88c7cb280a1cc912d4b05",
     "grade": true,
     "grade_id": "cell-9ea67238r9y",
     "locked": false,
     "points": 2,
     "schema_version": 3,
     "solution": true,
     "task": false
    }
   },
   "outputs": [],
   "source": []
  },
  {
   "cell_type": "markdown",
   "metadata": {
    "deletable": false,
    "editable": false,
    "nbgrader": {
     "cell_type": "markdown",
     "checksum": "d41d5129f00d5d1f3b8dceea620547c2",
     "grade": false,
     "grade_id": "cell-253343327982308ufu",
     "locked": true,
     "schema_version": 3,
     "solution": false
    }
   },
   "source": [
    "**(d)** [6] Newton's method\n",
    "$$ g(x) = x - \\frac{f}{f^\\prime}$$\n",
    "\n",
    "with $$ f = x^2 - M$$"
   ]
  },
  {
   "cell_type": "markdown",
   "metadata": {
    "deletable": false,
    "nbgrader": {
     "cell_type": "markdown",
     "checksum": "064fb95869cb3acd441daafd5640ee52",
     "grade": true,
     "grade_id": "cell-340019030oijq234roi",
     "locked": false,
     "points": 4,
     "schema_version": 3,
     "solution": true,
     "task": false
    }
   },
   "source": [
    "\\begin{equation}\n",
    "g(x)=x-\\frac{x^2-M}{2x}=\\frac{x}{2}+\\frac{M}{2x}\\\\\n",
    "g(\\sqrt{M})=\\frac{\\sqrt{M}}{2}+\\frac{M}{2\\sqrt{M}}=\\frac{\\sqrt{M}}{2}+\\frac{\\sqrt{M}}{2}=\\sqrt{M}\\\\\n",
    "g(x)=x-\\frac{f(x)}{f^\\prime(x)}\\\\\n",
    "g^\\prime(x)=1-\\frac{f^\\prime(x)}{f^\\prime(x)}+\\frac{f(x)f^{\\prime \\prime}(x)}{(f^\\prime(x)^2)}=\\frac{f(x)f^{\\prime \\prime}(x)}{(f^\\prime(x)^2)}\\\\\n",
    "g^\\prime(x^*)=\\frac{f(x^*)f^{\\prime \\prime}(x^*)}{(f^\\prime(x^*)^2)}=0\\\\\n",
    "\\end{equation}\n",
    "As $f(x^*)=0$ by defition, unless M = 0, $f^\\prime$ will not be zero and the scheme will be stable and coverge. The next plot demonstrate quadratic convergence"
   ]
  },
  {
   "cell_type": "code",
   "execution_count": 23,
   "metadata": {
    "deletable": false,
    "nbgrader": {
     "cell_type": "code",
     "checksum": "de8bb72e85c8267066928bf4faaa5e8f",
     "grade": true,
     "grade_id": "cell-9ea67719fouerouh",
     "locked": false,
     "points": 2,
     "schema_version": 3,
     "solution": true,
     "task": false
    }
   },
   "outputs": [
    {
     "name": "stdout",
     "output_type": "stream",
     "text": [
      "3 iterations are needed to reduce relative error to machine epselon\n"
     ]
    },
    {
     "data": {
      "image/png": "[encoded data removed]",
      "text/plain": [
       "<Figure size 576x432 with 1 Axes>"
      ]
     },
     "metadata": {
      "needs_background": "light"
     },
     "output_type": "display_data"
    }
   ],
   "source": [
    "fig = plt.figure(figsize=(8, 6))\n",
    "axes = fig.add_subplot(1, 1, 1)\n",
    "M = 3\n",
    "g = lambda x: (x/2)+(M/(2*x))\n",
    "N = 3\n",
    "x_array = fixed_point(g,2,N)\n",
    "g_array = abs(g(x_array))\n",
    "f = numpy.sqrt(M)\n",
    "r = abs(f-g_array)/f\n",
    "i = numpy.linspace(0.0, N, N+1)\n",
    "axes.grid()\n",
    "axes.set_xlabel('iteration')\n",
    "axes.set_ylabel('relative error')\n",
    "axes.set_ylim(10**-17)\n",
    "axes.set_title('fixed point iteration of g(x) = x - f/f\\' where f = x^2 - M')\n",
    "axes.plot(i, r)\n",
    "axes.set_yscale(\"log\")\n",
    "eps = numpy.finfo(float).eps\n",
    "if r[-1] <= eps:\n",
    "    print(N, \"iterations are needed to reduce relative error to machine epselon\")"
   ]
  },
  {
   "cell_type": "markdown",
   "metadata": {
    "deletable": false,
    "editable": false,
    "nbgrader": {
     "cell_type": "markdown",
     "checksum": "268f820b9f5eab632cd649479bcb3072",
     "grade": false,
     "grade_id": "cell-5084202108adoiu923",
     "locked": true,
     "schema_version": 3,
     "solution": false
    }
   },
   "source": [
    "## Question 2 - Fun with Rootfinders and NewtSafe\n",
    "\n",
    "This problem will explore the behavior of a range of different rootfinding routines against  a more challenging rootfinding problem.  Feel free to use any or all  of the routines presented in class which have been included in an auxiliary python file `rootfinding_optimization_schemes.py`\n",
    "\n",
    "\n",
    "You need to have this file in the same directory with your homework for this notebook to import it."
   ]
  },
  {
   "cell_type": "code",
   "execution_count": 7,
   "metadata": {
    "tags": []
   },
   "outputs": [
    {
     "name": "stdout",
     "output_type": "stream",
     "text": [
      "functions loaded correctly\n"
     ]
    }
   ],
   "source": [
    "#  Cell to import and test at least newton's method from class\n",
    "\n",
    "from  rootfinding_optimization_schemes import newton\n",
    "from  rootfinding_optimization_schemes import bisection\n",
    "from  rootfinding_optimization_schemes import secant\n",
    "from  rootfinding_optimization_schemes import parabolic_interpolation\n",
    "from scipy.optimize import root_scalar\n",
    "\n",
    "# set test function and its derivative\n",
    "f = lambda x: numpy.cos(x) - x\n",
    "f_prime = lambda x: -numpy.sin(x) - 1.\n",
    "\n",
    "#set initial guess and call newton\n",
    "x0 = 1.\n",
    "x, x_array = newton(f, f_prime, x0,tol=1.e-12)\n",
    "\n",
    "# run tests\n",
    "answer = 0.7390851332151606\n",
    "N = 5\n",
    "numpy.testing.assert_almost_equal(x, answer)\n",
    "numpy.testing.assert_almost_equal(N, len(x_array))\n",
    "print(\"functions loaded correctly\")"
   ]
  },
  {
   "cell_type": "markdown",
   "metadata": {
    "deletable": false,
    "editable": false,
    "nbgrader": {
     "cell_type": "markdown",
     "checksum": "a32d15febb12107bc3e15a6804e7cddd",
     "grade": false,
     "grade_id": "cell-08d7aa7aa9d9d246",
     "locked": true,
     "schema_version": 3,
     "solution": false,
     "task": false
    },
    "tags": []
   },
   "source": [
    "Consider the function \n",
    "\n",
    "$$\n",
    "    f(x) = \\cos(x) +  N(x, A, \\alpha, \\beta))\n",
    "$$\n",
    "where\n",
    "\n",
    "$$\n",
    "    N(x, A, \\alpha, \\beta) =  A\\left[\\sin(\\alpha x) + \\sin(\\beta x)\\right]\n",
    "$$\n",
    "\n",
    "is a function that adds smooth additive \"noise\" with fixed amplitude $A = 0.05$ and varying frequencies $\\alpha$ and $\\beta$"
   ]
  },
  {
   "cell_type": "markdown",
   "metadata": {
    "deletable": false,
    "editable": false,
    "nbgrader": {
     "cell_type": "markdown",
     "checksum": "aabb69283b8785747e05cf0367042331",
     "grade": false,
     "grade_id": "cell-fadb86c67ee671d2",
     "locked": true,
     "schema_version": 3,
     "solution": false,
     "task": false
    }
   },
   "source": [
    "**(a)** [4] Make a nicely labeled plot to showing the behavior of this function for \n",
    "* $\\alpha = 0.$, $\\beta =0.$\n",
    "* $\\alpha = 4.$, $\\beta =5.$\n",
    "* $\\alpha = 27$, $\\beta = 50$\n",
    "\n",
    "over the domain $x\\in[-2\\pi, 2\\pi]$. Make sure you have enough points to resolve the wiggles.  You should plot all three curves on the same plot"
   ]
  },
  {
   "cell_type": "code",
   "execution_count": 8,
   "metadata": {
    "deletable": false,
    "nbgrader": {
     "cell_type": "code",
     "checksum": "edc7c9bcc180f7f6c5e68c36a482e7ba",
     "grade": true,
     "grade_id": "cell-fadb86c67ee67848gr",
     "locked": false,
     "points": 4,
     "schema_version": 3,
     "solution": true,
     "task": false
    }
   },
   "outputs": [
    {
     "data": {
      "text/plain": [
       "Text(0.5, 1.0, 'f(x) = cos(x) + 0.05[sin(ax) + sin(bx)] with various (a,b) pairs')"
      ]
     },
     "execution_count": 8,
     "metadata": {},
     "output_type": "execute_result"
    },
    {
     "data": {
      "image/png": "[encoded data removed]",
      "text/plain": [
       "<Figure size 864x432 with 1 Axes>"
      ]
     },
     "metadata": {
      "needs_background": "light"
     },
     "output_type": "display_data"
    }
   ],
   "source": [
    "pi = numpy.pi\n",
    "x = numpy.linspace(-2*numpy.pi, 2*numpy.pi, 200)\n",
    "f1 = lambda x : numpy.cos(x) + 0.05*(numpy.sin(0*x)+numpy.sin(0*x))\n",
    "f2 = lambda x : numpy.cos(x) + 0.05*(numpy.sin(4*x)+numpy.sin(5*x))\n",
    "f3 = lambda x : numpy.cos(x) + 0.05*(numpy.sin(27*x)+numpy.sin(50*x))\n",
    "fig = plt.figure(figsize=(12, 6))\n",
    "axes = fig.add_subplot(1, 1, 1)\n",
    "axes.plot(x, f1(x), 'b', label = \"a=0,b=0\")\n",
    "axes.plot(x, f2(x), 'r', label = \"a=4,b=50\")\n",
    "axes.plot(x, f3(x), 'g', label = \"a=27,b=50\")\n",
    "axes.legend(loc = 'best')\n",
    "axes.set_xlabel('x')\n",
    "axes.set_ylabel('f(x)')\n",
    "axes.set_title('f(x) = cos(x) + 0.05[sin(ax) + sin(bx)] with various (a,b) pairs')"
   ]
  },
  {
   "cell_type": "markdown",
   "metadata": {
    "deletable": false,
    "editable": false,
    "nbgrader": {
     "cell_type": "markdown",
     "checksum": "3b9302605aa4f4dedadf35490138eeea",
     "grade": false,
     "grade_id": "cell-cfeab33ec7437a33",
     "locked": true,
     "schema_version": 3,
     "solution": false,
     "task": false
    }
   },
   "source": [
    "**(b)** [4] Explore the behavior of the following rootfinding routines \n",
    "* bisection\n",
    "* newton\n",
    "* secant\n",
    "* brentq method using scipy.optimize.root_scalar\n",
    "* **EXTRA CREDIT** any other method used in root_scalar\n",
    "\n",
    "for finding a root of this function, given the bracket $x\\in[x_0, x_1]$ with $x_0 = 0.2$, $x_1 = 2.$ for each ($\\alpha, \\beta$) pair\n",
    "\n",
    "`params = [ (0., 0.), (4., 5.),  (27, 50.) ]`\n",
    "\n",
    "For each routine,  report\n",
    "* the root found $x^*$\n",
    "* the value of $f$ at the root $f(x^*$)\n",
    "* the number of iterations."
   ]
  },
  {
   "cell_type": "code",
   "execution_count": 9,
   "metadata": {
    "deletable": false,
    "nbgrader": {
     "cell_type": "code",
     "checksum": "e4da74b90e3a108cde24c50d129d4a41",
     "grade": true,
     "grade_id": "cell-3d03e0785ba74cee",
     "locked": false,
     "points": 4,
     "schema_version": 3,
     "solution": true,
     "task": false
    }
   },
   "outputs": [
    {
     "name": "stdout",
     "output_type": "stream",
     "text": [
      "for a=0, b=0:\n",
      "bisection found a root at 1.570796775817871 with a value of -4.490229742968679e-07 in 20 iterations\n",
      "newtons method found a root at 4.71238898038469 with a value of -1.8369701987210297e-16 in 5 iterations\n",
      "secant method found a root at 1.5707963267998242 with a value of -4.927552640156338e-12 in 6 iterations\n",
      "brents method found a root at 1.5707963267948966 with a value of 6.123233995736766e-17 in 7 iterations\n",
      "toms748 method found a root at 1.570796326795897 with a value of -1.0004717574522338e-12 in 4 iterations\n",
      "\n",
      "for a=4, b=5:\n",
      "bisection found a root at 1.6304405212402344 with a value of 1.9620940003295395e-07 in 18 iterations\n",
      "newtons method found a root at -14.096326236971352 with a value of 6.931560738582254e-08 in 5 iterations\n",
      "secant method found a root at 1.6304406749277849 with a value of 6.137287288099369e-08 in 7 iterations\n",
      "brents method found a root at 1.630440744880973 with a value of -2.983724378680108e-16 in 8 iterations\n",
      "toms748 method found a root at 1.6304407448809726 with a value of 9.020562075079397e-17 in 4 iterations\n",
      "\n",
      "for a=27, b=50:\n",
      "bisection found a root at 1.5567201137542725 with a value of -3.491439037016375e-08 in 22 iterations\n",
      "newtons method found a root at 10.94772929731402 with a value of -6.529816895528562e-10 in 43 iterations\n",
      "secant method found a root at 1.5567201023472799 with a value of 3.945470060037759e-09 in 9 iterations\n",
      "brents method found a root at 1.5567201035054403 with a value of -3.191891195797325e-16 in 10 iterations\n",
      "toms748 method found a root at 1.5567201035044396 with a value of 3.4087784678282773e-12 in 6 iterations\n"
     ]
    }
   ],
   "source": [
    "#bisection\n",
    "bx1, bx1_array = bisection(f1, 0.2, 2.0)\n",
    "bx2, bx2_array = bisection(f2, 0.2, 2.0)\n",
    "bx3, bx3_array = bisection(f3, 0.2, 2.0)\n",
    "\n",
    "#newton\n",
    "x = sympy.symbols('x') \n",
    "f1 = sympy.cos(x) + 0.05*(sympy.sin(0*x)+sympy.sin(0*x))\n",
    "f1_prime = f1.diff(x)\n",
    "f1 = sympy.lambdify(x,f1)\n",
    "f1_prime = sympy.lambdify(x,f1_prime)\n",
    "f2 = sympy.cos(x) + 0.05*(sympy.sin(4*x)+sympy.sin(5*x))\n",
    "f2_prime = f2.diff(x)\n",
    "f2 = sympy.lambdify(x,f2)\n",
    "f2_prime = sympy.lambdify(x,f2_prime)\n",
    "f3 = sympy.cos(x) + 0.05*(sympy.sin(27*x)+sympy.sin(50*x))\n",
    "f3_prime = f3.diff(x)\n",
    "f3 = sympy.lambdify(x,f3)\n",
    "f3_prime = sympy.lambdify(x,f3_prime)\n",
    "\n",
    "\n",
    "nx1, nx1_array = newton(f1, f1_prime, 0.2)\n",
    "nx2, nx2_array = newton(f2, f2_prime, 0.2)\n",
    "nx3, nx3_array = newton(f3, f3_prime, 0.2)\n",
    "\n",
    "#secant\n",
    "sx1, sx1_array = secant(f1, 0.2, 2.0)\n",
    "sx2, sx2_array = secant(f2, 0.2, 2.0)\n",
    "sx3, sx3_array = secant(f3, 0.2, 2.0)\n",
    "\n",
    "#brentq\n",
    "qsol1 = root_scalar(f1, bracket=(0.2, 2), method='brentq')\n",
    "q1, q1_i = qsol1.root, qsol1.iterations\n",
    "qsol2 = root_scalar(f2, bracket=(0.2, 2), method='brentq')\n",
    "q2, q2_i = qsol2.root, qsol2.iterations\n",
    "qsol3 = root_scalar(f3, bracket=(0.2, 2), method='brentq')\n",
    "q3, q3_i = qsol3.root, qsol3.iterations\n",
    "\n",
    "#toms748\n",
    "tsol1 = root_scalar(f1, bracket=(0.2, 2), method='toms748')\n",
    "t1, t1_i = tsol1.root, tsol1.iterations\n",
    "tsol2 = root_scalar(f2, bracket=(0.2, 2), method='toms748')\n",
    "t2, t2_i = tsol2.root, tsol2.iterations\n",
    "tsol3 = root_scalar(f3, bracket=(0.2, 2), method='toms748')\n",
    "t3, t3_i = tsol3.root, tsol3.iterations\n",
    "\n",
    "#f1 results\n",
    "print(\"for a=0, b=0:\")\n",
    "print(\"bisection found a root at {} with a value of {} in {} iterations\".format(bx1, f1(bx1), bx1_array.size))\n",
    "print(\"newtons method found a root at {} with a value of {} in {} iterations\".format(nx1, f1(nx1), nx1_array.size))\n",
    "print(\"secant method found a root at {} with a value of {} in {} iterations\".format(sx1, f1(sx1), sx1_array.size))\n",
    "print(\"brents method found a root at {} with a value of {} in {} iterations\".format(q1, f1(q1), q1_i))\n",
    "print(\"toms748 method found a root at {} with a value of {} in {} iterations\\n\".format(t1, f1(t1), t1_i))\n",
    "\n",
    "#f2 results\n",
    "print(\"for a=4, b=5:\")\n",
    "print(\"bisection found a root at {} with a value of {} in {} iterations\".format(bx2, f2(bx2), bx2_array.size))\n",
    "print(\"newtons method found a root at {} with a value of {} in {} iterations\".format(nx2, f2(nx2), nx2_array.size))\n",
    "print(\"secant method found a root at {} with a value of {} in {} iterations\".format(sx2, f2(sx2), sx2_array.size))\n",
    "print(\"brents method found a root at {} with a value of {} in {} iterations\".format(q2, f2(q2), q2_i))\n",
    "print(\"toms748 method found a root at {} with a value of {} in {} iterations\\n\".format(t2, f2(t2), t2_i))\n",
    "\n",
    "#f3 results\n",
    "print(\"for a=27, b=50:\")\n",
    "print(\"bisection found a root at {} with a value of {} in {} iterations\".format(bx3, f3(bx3), bx3_array.size))\n",
    "print(\"newtons method found a root at {} with a value of {} in {} iterations\".format(nx3, f3(nx3), nx3_array.size))\n",
    "print(\"secant method found a root at {} with a value of {} in {} iterations\".format(sx3, f3(sx3), sx3_array.size))\n",
    "print(\"brents method found a root at {} with a value of {} in {} iterations\".format(q3, f3(q3), q3_i))\n",
    "print(\"toms748 method found a root at {} with a value of {} in {} iterations\".format(t3, f3(t3), t3_i))"
   ]
  },
  {
   "cell_type": "markdown",
   "metadata": {
    "deletable": false,
    "editable": false,
    "nbgrader": {
     "cell_type": "markdown",
     "checksum": "4ed9f634a22a3aaf8cb2b524c119f3b9",
     "grade": false,
     "grade_id": "cell-d6c0204318b16a38",
     "locked": true,
     "schema_version": 3,
     "solution": false,
     "task": false
    }
   },
   "source": [
    "**(c)** [4] Make a convergence plot showing the relative error at each step for Newton's method for the same three parameter pairs and initial guess $x_0 = 0.2$.  Hint: your convergence plots should use `semilogy` for clearest results.  Again put all your results on one plot and label things well"
   ]
  },
  {
   "cell_type": "code",
   "execution_count": 10,
   "metadata": {
    "deletable": false,
    "nbgrader": {
     "cell_type": "code",
     "checksum": "712e8203de014a4d1bff6c5d3589f974",
     "grade": true,
     "grade_id": "cell-03e97ced4d02bc89",
     "locked": false,
     "points": 4,
     "schema_version": 3,
     "solution": true,
     "task": false
    }
   },
   "outputs": [],
   "source": [
    "axes.semilogy?"
   ]
  },
  {
   "cell_type": "code",
   "execution_count": 11,
   "metadata": {},
   "outputs": [
    {
     "data": {
      "text/plain": [
       "Text(0.5, 1.0, \"relative error between each step of newton's method and the final root it returns\")"
      ]
     },
     "execution_count": 11,
     "metadata": {},
     "output_type": "execute_result"
    },
    {
     "data": {
      "image/png": "[encoded data removed]",
      "text/plain": [
       "<Figure size 864x432 with 1 Axes>"
      ]
     },
     "metadata": {
      "needs_background": "light"
     },
     "output_type": "display_data"
    }
   ],
   "source": [
    "fig = plt.figure(figsize=(12, 6))\n",
    "axes = fig.add_subplot(1, 1, 1)\n",
    "r1 = abs(nx1 - nx1_array) / abs(nx1)\n",
    "r2 = abs(nx2 - nx2_array) / abs(nx2)\n",
    "r3 = abs(nx3 - nx3_array) / abs(nx3)\n",
    "axes.semilogy(numpy.arange(len(r1)), r1, 'bo-', label = \"a=0,b=0\")\n",
    "axes.semilogy(numpy.arange(len(r2)), r2, 'ro-', label = \"a=4,b=5\")\n",
    "axes.semilogy(numpy.arange(len(r3)), r3, 'go-', label = \"a=27,b=50\")\n",
    "axes.legend(loc='best')\n",
    "axes.set_xlabel('iteration')\n",
    "axes.set_ylabel('relative error')\n",
    "axes.set_title('relative error between each step of newton\\'s method and the final root it returns')"
   ]
  },
  {
   "cell_type": "markdown",
   "metadata": {
    "deletable": false,
    "editable": false,
    "nbgrader": {
     "cell_type": "markdown",
     "checksum": "2df03ce3234624a2a1c2d6b521634126",
     "grade": false,
     "grade_id": "cell-688d9772c0ee0353",
     "locked": true,
     "schema_version": 3,
     "solution": false,
     "task": false
    }
   },
   "source": [
    "**(d)** [4] Briefly explain your results so far for all the methods.  Feel free to play with other initial parameters or to make additional plots.  "
   ]
  },
  {
   "cell_type": "markdown",
   "metadata": {
    "deletable": false,
    "nbgrader": {
     "cell_type": "markdown",
     "checksum": "2fd45f3d0ef415e1263944f18cb82175",
     "grade": true,
     "grade_id": "cell-0d30efbc8418cd82",
     "locked": false,
     "points": 4,
     "schema_version": 3,
     "solution": true,
     "task": false
    }
   },
   "source": [
    "Newton's method does not arrive at the local root as the other methods do but is ruled by basins of attraction. Bisection took usually the most iterations and was the least accurate. Toms748 took the least amount of iterations. Brent's was the most accurate usually. Lastly, the secant method was time consuming and moderately accurate"
   ]
  },
  {
   "cell_type": "markdown",
   "metadata": {
    "deletable": false,
    "editable": false,
    "nbgrader": {
     "cell_type": "markdown",
     "checksum": "db197de596ae1a5191790bc36a15b67c",
     "grade": false,
     "grade_id": "cell-b46861a6140bb51d",
     "locked": true,
     "schema_version": 3,
     "solution": false,
     "task": false
    }
   },
   "source": [
    "**(e)** [6] Write a controlled Newton routine `NewtSafe`,  that finds a root with an initial bracket by combining newton steps with a bisection routine.  The basic algorithm is to first try Newton from the midpoint of the bracket.  If Newton predicts a solution outside of the bracket, ignore it and take a bisection step instead.  You can use and modify any of the rootfinding routines I presented in class, but write a decent docstring and raise appropriate exceptions as necessary. \n",
    "\n",
    "The routine should return the best estimate of the root and number of Newton Steps and the number of bisection steps\n",
    "\n",
    "`x, N_newt, N_bisection = newtsafe(f, f_prime, a, b)`"
   ]
  },
  {
   "cell_type": "code",
   "execution_count": 12,
   "metadata": {
    "deletable": false,
    "nbgrader": {
     "cell_type": "code",
     "checksum": "c064de33e8e33bb749259d97e0fb04a1",
     "grade": false,
     "grade_id": "cell-a20f6d1abec7c19d",
     "locked": false,
     "schema_version": 3,
     "solution": true,
     "task": false
    }
   },
   "outputs": [],
   "source": [
    "def newtsafe(f,f_prime,a,b,tol = 1.e-6, max_steps=1000):\n",
    "    \"\"\" Please improve this docstring\n",
    "        \n",
    "    \n",
    "    Parameters:\n",
    "    -----------\n",
    "    \n",
    "    f: function (float)\n",
    "        function returning f(x)\n",
    "    f_prime:  function (float)\n",
    "        function returning derivative of f with respect to x\n",
    "    a: float\n",
    "        left bracket a < x\n",
    "    b: float\n",
    "        right bracket x < b\n",
    "        \n",
    "        Note:  the signs of f(a) and f(b) must be different to insure a bracket\n",
    "    tol: float\n",
    "        tolerance.  Returns when |f(x)| < tol\n",
    "    max_steps: int\n",
    "        maximum number of iteration steps\n",
    "        \n",
    "    Returns:\n",
    "    --------\n",
    "    x: float\n",
    "        midpoint of final bracket\n",
    "    n_newt:  number of newton steps for successful newton iteration\n",
    "    n_bisection: number of bisection steps\n",
    "        \n",
    "    Raises:\n",
    "    -------\n",
    "    ValueError:  \n",
    "        if initial bracket is invalid \n",
    "    Warning: \n",
    "        if number of iterations exceed MAX_STEPS\n",
    "    Prints warning if Newton exceeds the bracket\n",
    "    \n",
    "    \"\"\"\n",
    "    if numpy.sign(f(a)) == numpy.sign(f(b)):\n",
    "        raise ValueError(\"no bracket: f(a) and f(b) must have different signs\")\n",
    "    \n",
    "    if b < a:\n",
    "        d = a\n",
    "        a = b\n",
    "        b = d\n",
    "    c = (a+b)/2\n",
    "    n_newt = 0\n",
    "    n_bi = 0\n",
    "    \n",
    "    for step in range(1, max_steps+1):\n",
    "\n",
    "        if abs(f(c)) < tol:\n",
    "            x = c\n",
    "            break\n",
    "        \n",
    "        cn = c  - (f(c) / f_prime(c))\n",
    "        if (a <= cn) and (cn <= b):\n",
    "            c = cn\n",
    "            n_newt += 1\n",
    "\n",
    "        else:\n",
    "            print('newton exceeded the bracket')\n",
    "            if numpy.sign(f(a)) != numpy.sign(f(c)):\n",
    "                b = c\n",
    "            else:\n",
    "                a = c\n",
    "            c = (a+b)/2\n",
    "            n_bi += 1\n",
    "\n",
    "    \n",
    "    if step == max_steps:\n",
    "        warnings.warn('Maximum number of steps exceeded')\n",
    "        x = c\n",
    "    \n",
    "    return x, n_newt, n_bi"
   ]
  },
  {
   "cell_type": "code",
   "execution_count": 13,
   "metadata": {},
   "outputs": [],
   "source": [
    "# you can play with your code here"
   ]
  },
  {
   "cell_type": "code",
   "execution_count": 14,
   "metadata": {
    "deletable": false,
    "editable": false,
    "nbgrader": {
     "cell_type": "code",
     "checksum": "a0fc4358c1096461564e6e35cea822ab",
     "grade": true,
     "grade_id": "cell-7cdbdbda9ca86f82",
     "locked": true,
     "points": 6,
     "schema_version": 3,
     "solution": false,
     "task": false
    }
   },
   "outputs": [
    {
     "name": "stdout",
     "output_type": "stream",
     "text": [
      "Bracket  = [-0.68309670780092, 2.642524050776319]\n",
      "Newton   = 1.27194847295657,    N   = 3\n",
      "NewtSafe = 1.27194847295657,    N_n = 3, N_b = 0\n",
      "brentq   = 1.2719484732512498,    N   = 9\n",
      "\n",
      "newton exceeded the bracket\n",
      "newton exceeded the bracket\n",
      "Bracket  = [-0.7104536143852529, 3.8152626763086603]\n",
      "Newton   = -23.8662065317763,    N   = 7\n",
      "NewtSafe = 1.0884990113244402,    N_n = 3, N_b = 2\n",
      "brentq   = 1.088499013515958,    N   = 13\n",
      "\n",
      "newton exceeded the bracket\n",
      "Bracket  = [-0.5236057894835726, 3.9067882124238986]\n",
      "Newton   = -10.863477689404652,    N   = 11\n",
      "NewtSafe = 1.1106142646362411,    N_n = 5, N_b = 1\n",
      "brentq   = 1.1106142646873127,    N   = 11\n",
      "\n",
      "Bracket  = [-0.5275356434135271, 2.4988039593212776]\n",
      "Newton   = 1.3248590962279085,    N   = 3\n",
      "NewtSafe = 1.3248590962279085,    N_n = 3, N_b = 0\n",
      "brentq   = 1.3248590968150393,    N   = 9\n",
      "\n",
      "newton exceeded the bracket\n",
      "Bracket  = [-0.3534683303763972, 3.9130408021252014]\n",
      "Newton   = 1.1473182519095415,    N   = 10\n",
      "NewtSafe = 1.1473181573836526,    N_n = 6, N_b = 1\n",
      "brentq   = 1.1473182519138232,    N   = 9\n",
      "\n",
      "no bracket: f(a) and f(b) must have different signs\n",
      "success!\n"
     ]
    }
   ],
   "source": [
    "# Testing Cell\n",
    "from  rootfinding_optimization_schemes import newton\n",
    "from scipy.optimize import root_scalar\n",
    "\n",
    "a = 27\n",
    "b = 50\n",
    "A = 0.3\n",
    "f = lambda x: numpy.cos(x) + A*(numpy.sin(a * x) + numpy.sin(b * x))\n",
    "f_prime = lambda x: -numpy.sin(x) + A*(a*numpy.cos(a * x) + b*numpy.cos(b * x))\n",
    "\n",
    "pi = numpy.pi\n",
    "\n",
    "brackets = [ \n",
    "            (-0.68309670780092, 2.642524050776319),\n",
    "            (-0.7104536143852529, 3.8152626763086603),\n",
    "            (-0.5236057894835726, 3.9067882124238986),\n",
    "            (-0.5275356434135271, 2.4988039593212776),\n",
    "            (-0.3534683303763972, 3.9130408021252014)\n",
    "           ]\n",
    "\n",
    "for bracket in brackets:\n",
    "    #a = numpy.random.uniform(low=-pi/4, high=pi/4)\n",
    "    #b = numpy.random.uniform(low=3*pi/4, high=5*pi/4)\n",
    "    a = bracket[0]\n",
    "    b = bracket[1]\n",
    "    x_n, x_array = newton(f, f_prime, (a + b)/2.)\n",
    "    x_ns, N_n, N_b = newtsafe(f, f_prime, a, b)\n",
    "    sol = root_scalar(f, bracket=(a, b),method='brentq')\n",
    "    print('Bracket  = [{}, {}]'.format(a, b))\n",
    "    print('Newton   = {},    N   = {}'.format(x_n, len(x_array)-1))\n",
    "    print('NewtSafe = {},    N_n = {}, N_b = {}'.format(x_ns, N_n, N_b))\n",
    "    print('brentq   = {},    N   = {}'.format(sol.root, sol.iterations))\n",
    "    print()\n",
    "    numpy.testing.assert_almost_equal(x_ns, sol.root,decimal=5)\n",
    "    \n",
    "try:\n",
    "    x_ns, N_n, N_b = newtsafe(f, f_prime, 1.6, 2.0)\n",
    "except ValueError as err:\n",
    "    print(err)\n",
    "    pass\n",
    "\n",
    "print('success!')\n"
   ]
  },
  {
   "cell_type": "markdown",
   "metadata": {
    "deletable": false,
    "editable": false,
    "nbgrader": {
     "cell_type": "markdown",
     "checksum": "6ff9cfc557769fb0e0cd3151689d9310",
     "grade": false,
     "grade_id": "cell-508420840igovo948yh23",
     "locked": true,
     "schema_version": 3,
     "solution": false
    }
   },
   "source": [
    "## Question 3 - Solve a \"real\" rootfinding problem\n",
    "\n",
    "In Homework 2, I asked you to *estimate* the number of terms in the taylor expansion of $e^x$ such that the relative error was less than $\\epsilon_{mach}$.  This was essentially a non-linear problem in the number of steps $n$.  Here we will use a rootfinder to get this number more precisely."
   ]
  },
  {
   "cell_type": "markdown",
   "metadata": {
    "deletable": false,
    "editable": false,
    "nbgrader": {
     "cell_type": "markdown",
     "checksum": "0c5da29bd8798f54998030d92df5ac1d",
     "grade": false,
     "grade_id": "cell-3f4f0535e4abc84f",
     "locked": true,
     "schema_version": 3,
     "solution": false,
     "task": false
    }
   },
   "source": [
    "**(a)** [8] provide a numerical solution for the number of terms $n$ in the Taylor polynomial expansion of exp(x) (i.e. $T_N(x))$ such that the relative error is\n",
    "\n",
    "$$\n",
    "    r = \\left| \\frac{x^{n+1}}{(n + 1)!} \\right| \\approx \\epsilon_{mach}\n",
    "$$ \n",
    "\n",
    "Give solutions for x = 0.1, 1., 10. ,100. , 709., 1000. and compare your numerical solution to the approximate solution given in last homework \n",
    "\n",
    "$$\n",
    "    n > e*x\n",
    "$$\n",
    "\n",
    "by calculating the relative error between the your numerical solution and your simpler estimate.\n",
    "\n",
    "Note: To make this problem easier, just use Stirling’s approximation $\\log(n!) \\approx n \\log n − n$. which will work quite well.  However, for a little bit of extra credit solve this for the full problem and compare solutions.\n"
   ]
  },
  {
   "cell_type": "markdown",
   "metadata": {
    "deletable": false,
    "nbgrader": {
     "cell_type": "markdown",
     "checksum": "b68b95d0b33a72562c80bc1c8831d3ac",
     "grade": true,
     "grade_id": "cell-8fc4ebbf43da6dff",
     "locked": false,
     "points": 4,
     "schema_version": 3,
     "solution": true,
     "task": false
    }
   },
   "source": [
    "answer below"
   ]
  },
  {
   "cell_type": "code",
   "execution_count": 15,
   "metadata": {
    "deletable": false,
    "nbgrader": {
     "cell_type": "code",
     "checksum": "11099c9f28135df32eed257aca68662a",
     "grade": true,
     "grade_id": "cell-963aac8426927a48",
     "locked": false,
     "points": 4,
     "schema_version": 3,
     "solution": true,
     "task": false
    }
   },
   "outputs": [
    {
     "name": "stdout",
     "output_type": "stream",
     "text": [
      "for x = 0.1, n = 8.998252263613157 and has a relative error of 0.9697910021988253 with the approximation n = ex\n",
      "for x = 1.0, n = 17.69326017986983 and has a relative error of 0.846366254674098 with the approximation n = ex\n",
      "for x = 10.0, n = 52.392002821573556 and has a relative error of 0.48116474231450207 with the approximation n = ex\n",
      "for x = 100.0, n = 304.8289018356014 and has a relative error of 0.1082598099818457 with the approximation n = ex\n",
      "for x = 709.0, n = 1961.976573890756 and has a relative error of 0.017693767588901912 with the approximation n = ex\n",
      "for x = 1000, n = 2753.0906500709116 and has a relative error of 0.012643543579275062 with the approximation n = ex\n"
     ]
    }
   ],
   "source": [
    "e = numpy.exp(1)\n",
    "f = lambda n: eps - numpy.abs(((x*e)/(n+1))**(n+1))\n",
    "g = lambda x: e*x\n",
    "for x in [0.1, 1.0, 10.0, 100.0, 709.0, 1000]:\n",
    "    sol = root_scalar(f, bracket=(0, 5*x+20), method='brentq')\n",
    "    r = numpy.abs((sol.root-g(x))/sol.root)\n",
    "    print(\"for x = {}, n = {} and has a relative error of {} with the approximation n = ex\".format(x, sol.root, r))"
   ]
  },
  {
   "cell_type": "code",
   "execution_count": null,
   "metadata": {},
   "outputs": [],
   "source": []
  }
 ],
 "metadata": {
  "kernelspec": {
   "display_name": "Python 3",
   "language": "python",
   "name": "python3"
  },
  "language_info": {
   "codemirror_mode": {
    "name": "ipython",
    "version": 3
   },
   "file_extension": ".py",
   "mimetype": "text/x-python",
   "name": "python",
   "nbconvert_exporter": "python",
   "pygments_lexer": "ipython3",
   "version": "3.8.8"
  }
 },
 "nbformat": 4,
 "nbformat_minor": 4
}
