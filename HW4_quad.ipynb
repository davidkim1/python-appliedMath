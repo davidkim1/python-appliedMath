{
 "cells": [
  {
   "cell_type": "markdown",
   "metadata": {},
   "source": [
    "Before you turn this problem in, make sure everything runs as expected. First, **restart the kernel** (in the menubar, select Kernel$\\rightarrow$Restart) and then **run all cells** (in the menubar, select Cell$\\rightarrow$Run All).\n",
    "\n",
    "Make sure you fill in any place that says `YOUR CODE HERE` or \"YOUR ANSWER HERE\", as well as any collaborators you worked with:"
   ]
  },
  {
   "cell_type": "code",
   "execution_count": 1,
   "metadata": {},
   "outputs": [],
   "source": [
    "COLLABORATORS = \"\""
   ]
  },
  {
   "cell_type": "markdown",
   "metadata": {},
   "source": [
    "---"
   ]
  },
  {
   "cell_type": "code",
   "execution_count": 2,
   "metadata": {},
   "outputs": [],
   "source": [
    "%matplotlib inline\n",
    "%precision 16\n",
    "import numpy\n",
    "from scipy.special import erf, fresnel\n",
    "import matplotlib.pyplot as plt"
   ]
  },
  {
   "cell_type": "markdown",
   "metadata": {
    "deletable": false,
    "editable": false,
    "nbgrader": {
     "cell_type": "markdown",
     "checksum": "501a1c819b64d93a63daffcf5dd3d042",
     "grade": false,
     "grade_id": "cell-3336298175051145",
     "locked": true,
     "schema_version": 3,
     "solution": false
    }
   },
   "source": [
    "Before you turn this problem in, make sure everything runs as expected. First, restart the kernel (in the menubar, select Kernel $\\rightarrow$ Restart) and then run all cells (in the menubar, select Cell $\\rightarrow$ Run All).\n",
    "\n",
    "Make sure you fill in any place that says YOUR CODE HERE or \"YOUR ANSWER HERE\", as well as your name and collaborators below:"
   ]
  },
  {
   "cell_type": "markdown",
   "metadata": {
    "deletable": false,
    "editable": false,
    "nbgrader": {
     "cell_type": "markdown",
     "checksum": "97f20971f6b06daad4dd2aade591e99e",
     "grade": false,
     "grade_id": "cell-8922434501433849",
     "locked": true,
     "schema_version": 3,
     "solution": false
    }
   },
   "source": [
    "# HW 4:  Numerical  Quadrature "
   ]
  },
  {
   "cell_type": "markdown",
   "metadata": {
    "deletable": false,
    "editable": false,
    "nbgrader": {
     "cell_type": "markdown",
     "checksum": "11c4dc7f495597dcf17512a1d25527ed",
     "grade": false,
     "grade_id": "cell-6862f9ce9923e1fc",
     "locked": true,
     "schema_version": 3,
     "solution": false,
     "task": false
    }
   },
   "source": [
    "## Question 1 - Basic  Quadrature Rules\n",
    "\n",
    "The Error Function $\\mathrm{erf}(x)$ is defined by the definite integral\n",
    "\n",
    "$$\n",
    "    \\mathrm{erf}(x) = \\frac{2}{\\pi}\\int_0^x e^{-t^2}dt\n",
    "$$ \n",
    "\n",
    "We will use this function to test and understand the different errors associated with a range of both single interval and extended quadrature rules.  \n",
    "\n",
    "Use the function definitions below to write a set of functions for approximating \n",
    "$$\n",
    " I[f] =  \\int_a^b f(x) dx\n",
    "$$ \n",
    "which we will use for testing against $\\mathrm{erf}(x)$"
   ]
  },
  {
   "cell_type": "markdown",
   "metadata": {
    "deletable": false,
    "editable": false,
    "nbgrader": {
     "cell_type": "markdown",
     "checksum": "aa0f8a81ccc6a98f5b541e053b830a74",
     "grade": false,
     "grade_id": "cell-7394d01b84f7ad21",
     "locked": true,
     "schema_version": 3,
     "solution": false,
     "task": false
    }
   },
   "source": [
    "**(a)** [8] Single step quadrature rules\n",
    "\n",
    "Write short python functions for calculating $I[f]$ for the following newton-Cotes  quadrature rules on a single interval\n",
    "\n",
    "* Left-Rectangle rule (a 1-point quadrature rule like  Mid-point, but evaluated at $x=a$, not the mid-point)\n",
    "* Mid-point rule\n",
    "* Trapezoidal rule\n",
    "* Simpson's Rule"
   ]
  },
  {
   "cell_type": "code",
   "execution_count": 3,
   "metadata": {
    "deletable": false,
    "nbgrader": {
     "cell_type": "code",
     "checksum": "9d83aaabf33a18b7fb3ebdc876ac8b3b",
     "grade": false,
     "grade_id": "cell-656f8ecff157e21f",
     "locked": false,
     "schema_version": 3,
     "solution": true,
     "task": false
    }
   },
   "outputs": [],
   "source": [
    "def I_left(f, a, b):\n",
    "    y = numpy.abs(a-b)\n",
    "    return f(a) * y\n",
    "    \n",
    "def I_midpoint(f, a, b):\n",
    "    \"\"\" Newton-Cotes Midpoint rule\"\"\"\n",
    "    y = numpy.abs(a-b)\n",
    "    m = y/2+a\n",
    "    return f(m) * y\n",
    "\n",
    "def I_trapezoid(f, a, b):\n",
    "    \"\"\" Newton-Cotes Midpoint rule\"\"\"\n",
    "    y = numpy.abs(a-b)\n",
    "    return y * 1/2 * (f(a) + f(b))\n",
    "    \n",
    "def I_simpson(f, a, b):\n",
    "    \"\"\" Newton-Cotes Simpsons rule\"\"\"\n",
    "    y = numpy.abs(a-b)\n",
    "    return y * 1/6*f(0)+2*y*1/3*f(b/2)+y*1/6*f(b)\n",
    "    "
   ]
  },
  {
   "cell_type": "code",
   "execution_count": 4,
   "metadata": {
    "deletable": false,
    "editable": false,
    "nbgrader": {
     "cell_type": "code",
     "checksum": "805dea44cc0dd5b7acaba0f93a994a72",
     "grade": true,
     "grade_id": "cell-c9c5d610957c6e0d",
     "locked": true,
     "points": 8,
     "schema_version": 3,
     "solution": false,
     "task": false
    }
   },
   "outputs": [
    {
     "name": "stdout",
     "output_type": "stream",
     "text": [
      "x = 1.0, erf(x) = 0.8427007929497148\n",
      "\n",
      "success!\n"
     ]
    }
   ],
   "source": [
    "# test against erf(1.)\n",
    "\n",
    "x = 1.0\n",
    "I_true = erf(x)\n",
    "print('x = {}, erf(x) = {}\\n'.format(x,I_true))\n",
    "f = lambda x : 2./numpy.sqrt(numpy.pi) * numpy.exp(-x*x)\n",
    "\n",
    "I = numpy.zeros(4)\n",
    "I[0] = I_left(f, 0., x)\n",
    "I[1] = I_midpoint(f, 0., x)\n",
    "I[2] = I_trapezoid(f, 0., x)\n",
    "I[3] = I_simpson(f, 0., x)\n",
    "\n",
    "err = numpy.abs( I - I_true)/numpy.abs(I_true)\n",
    "answer = numpy.array([0.339003328982087,  0.0428168411464673,\n",
    "          0.084202437312641, 0.0004770816600977])\n",
    "numpy.testing.assert_allclose(err, answer)\n",
    "print('success!')"
   ]
  },
  {
   "cell_type": "markdown",
   "metadata": {
    "deletable": false,
    "editable": false,
    "nbgrader": {
     "cell_type": "markdown",
     "checksum": "ae9e2530c643c17c537ffe961575fa8e",
     "grade": false,
     "grade_id": "cell-9eb665d0310b8e47",
     "locked": true,
     "schema_version": 3,
     "solution": false,
     "task": false
    }
   },
   "source": [
    "**(b)** [8] Repeat the exercise for  3 point Gauss-Legendre Quadrature\n",
    "\n",
    "* First:  calculate the weights $w_i$, using the method of undetermined coefficients such that the quadrature rule exactly integrates the monomials $1, x, x^2$ over the interval $x\\in[-1,1]$.\n",
    "(hint:  the 3 quadrature points $x_i$ are the roots of \n",
    "\n",
    "$$\n",
    "    P_3(x) = (5x^3 - 3x)/2\n",
    "$$\n",
    "and this rule will exactly integrate polynomials up to order 5)."
   ]
  },
  {
   "cell_type": "markdown",
   "metadata": {
    "deletable": false,
    "nbgrader": {
     "cell_type": "markdown",
     "checksum": "7d826c95d35f6e9677e9e61b584dc3e8",
     "grade": true,
     "grade_id": "cell-07d167d661aa6223",
     "locked": false,
     "points": 4,
     "schema_version": 3,
     "solution": true,
     "task": false
    }
   },
   "source": [
    "the roots of these are x0 = 0, x1 = -(sqrt(3/5)), x2 = x1 = \n",
    "(sqrt(3/5))"
   ]
  },
  {
   "cell_type": "markdown",
   "metadata": {
    "deletable": false,
    "editable": false,
    "nbgrader": {
     "cell_type": "markdown",
     "checksum": "f10979ca436557f45b2e46aab652d6f6",
     "grade": false,
     "grade_id": "cell-001440f37a3e160d",
     "locked": true,
     "schema_version": 3,
     "solution": false,
     "task": false
    }
   },
   "source": [
    "Next, implement your 3-point GL quadrature scheme to approximate \n",
    "\n",
    "$$\n",
    "    \\int_a^b f(x) dx\n",
    "$$\n",
    "for an arbitrary interval $x\\in [a,b]$ (remember the affine mapping). "
   ]
  },
  {
   "cell_type": "code",
   "execution_count": 5,
   "metadata": {
    "deletable": false,
    "nbgrader": {
     "cell_type": "code",
     "checksum": "9ba9594c2c6768b8e396980aa08956e2",
     "grade": false,
     "grade_id": "cell-094691d93b475d66",
     "locked": false,
     "schema_version": 3,
     "solution": true,
     "task": false
    }
   },
   "outputs": [],
   "source": [
    "def I_GL3(f, a, b):\n",
    "    \"\"\" 3 point Gauss-Legendre Quadrature rule for an arbitrary interval x \\in [a,b]\"\"\"\n",
    "    # Build up a nested list of gauss points and weights:\n",
    "    xGl = []\n",
    "    wGl = []\n",
    "    # 1 point Gauss-legendre quadrature\n",
    "    xGl.append(numpy.array([0.]))\n",
    "    wGl.append(numpy.array([2.]))\n",
    "    # 2 point Gauss-legendre quadrature\n",
    "    xGl.append(numpy.array([ -1./numpy.sqrt(3.), 1./numpy.sqrt(3)]))\n",
    "    wGl.append(numpy.array([ 1. , 1.]))\n",
    "    # 3 point Gauss-legendre quadrature\n",
    "    xGl.append(numpy.array([-numpy.sqrt(3. /5.), 0., numpy.sqrt(3. / 5.)]))\n",
    "    wGl.append(numpy.array([5., 8., 5.])/9.)\n",
    "    \n",
    "    # make affine map between x and xi\n",
    "    xi_map = lambda xi: (b - a)/2. * xi + (a + b) / 2.\n",
    "    \n",
    "    I = (b - a)/2. * (wGl[3-1].dot(f(xi_map(xGl[3-1]))))\n",
    "    return I"
   ]
  },
  {
   "cell_type": "code",
   "execution_count": 6,
   "metadata": {
    "deletable": false,
    "editable": false,
    "nbgrader": {
     "cell_type": "code",
     "checksum": "384646a064e7155b9ae1947f77fee12f",
     "grade": true,
     "grade_id": "cell-0a4061efa277bd8e",
     "locked": true,
     "points": 4,
     "schema_version": 3,
     "solution": false,
     "task": false
    }
   },
   "outputs": [
    {
     "name": "stdout",
     "output_type": "stream",
     "text": [
      "x = 1.0, erf(x) = 0.8427007929497148\n",
      "       I_GL3(x) = 0.8426900184845107, err=1.2785635535382798e-05\n",
      "\n",
      "success!\n"
     ]
    }
   ],
   "source": [
    "x = 1.0\n",
    "I_true = erf(x)\n",
    "f = lambda x : 2./numpy.sqrt(numpy.pi) * numpy.exp(-x*x)\n",
    "\n",
    "I = I_GL3(f, 0., x)\n",
    "err = numpy.abs( I - I_true)/numpy.abs(I_true)\n",
    "print('x = {}, erf(x) = {}'.format(x,I_true))\n",
    "print('       I_GL3(x) = {}, err={}\\n'.format(I,err))\n",
    "\n",
    "answer = 1.2785635535382798e-05\n",
    "numpy.testing.assert_allclose(err, answer)\n",
    "print('success!')"
   ]
  },
  {
   "cell_type": "markdown",
   "metadata": {},
   "source": [
    "**(c)** [8] Extended Quadrature rules. \n",
    "\n",
    "All of the above rules approximate the integral for a single \"panel\" over the interval $[a,b]$, but can be extended to calculate the quadrature of $N$ panels that subdivide the interval.  \n",
    "\n",
    "Write a function that computes\n",
    "\n",
    "$$\n",
    "    I_N[f] = \\int_a^b f(x) dx = \\sum_{n=1}^N I_{method}[f]_n\n",
    "$$\n",
    "\n",
    "\n",
    "where $I_{method}[f]_n$ is one of the quadrature methods used above. \n",
    "\n",
    "Note, this won't be the most efficient way to implement many of these methods,  but that's not really the issue here."
   ]
  },
  {
   "cell_type": "code",
   "execution_count": 7,
   "metadata": {
    "deletable": false,
    "nbgrader": {
     "cell_type": "code",
     "checksum": "01c801c9bf5b4233ab8040861cbf3557",
     "grade": false,
     "grade_id": "cell-2773e3774b718b85",
     "locked": false,
     "schema_version": 3,
     "solution": true,
     "task": false
    }
   },
   "outputs": [],
   "source": [
    "def quadN(f, a, b, N, method=I_midpoint):\n",
    "    \"\"\" \n",
    "    integrate a function f over the interval x in [a,b] using \n",
    "    an extended quadrature rule that implements a single interval\n",
    "    quadrature rule over N panels of width (a - b)/N \n",
    "        \n",
    "    Parameters:\n",
    "    -----------\n",
    "        \n",
    "    f:  function f(x) (type float)\n",
    "    a: float\n",
    "        left boundary of interval\n",
    "    b: float\n",
    "        right boundary of interval\n",
    "    N: integer\n",
    "        number of panels to subdivide [a,b]\n",
    "    method:  quadrature function with interface I(f, x0, x1) (real)\n",
    "        returns quadrature approximation for subinterval [x0, x1]\n",
    "        defaults to a midpoint rule\n",
    "            \n",
    "    Returns:\n",
    "    --------\n",
    "    I_N:  extended quadrature approximation of \\int_a^b f(x) dx\n",
    "        \n",
    "    \"\"\"\n",
    "    x = numpy.linspace(a, b, N + 1)\n",
    "    i_sum = 0 \n",
    "    \n",
    "    for i in range(N):\n",
    "        i_sum += method(f, x[i], x[i+1])\n",
    "    \n",
    "    return i_sum\n",
    "\n",
    "def quadNLeft(f, a, b, N, method=I_midpoint):\n",
    "    n_i = numpy.linspace(a, b, N + 1)\n",
    "    dx = n_i[1] - n_i[0]\n",
    "    sum = 0\n",
    "    for i in range(1,N+1):\n",
    "        sum += I_left(f, n_i[i-1], n_i[i])\n",
    "    return sum\n",
    "\n",
    "def quadNMidpoint(f, a, b, N, method=I_midpoint):\n",
    "    n_i = numpy.linspace(a, b, N + 1)\n",
    "    dx = n_i[1] - n_i[0]\n",
    "    sum = 0\n",
    "    for i in range(1,N+1):\n",
    "        sum += I_midpoint(f, n_i[i-1], n_i[i])\n",
    "    return sum\n",
    "def quadNTrap(f, a, b, N, method=I_midpoint):\n",
    "    n_i = numpy.linspace(a, b, N + 1)\n",
    "    dx = n_i[1] - n_i[0]\n",
    "    sum = 0\n",
    "    for i in range(1,N+1):\n",
    "        sum += I_trapezoid(f, n_i[i-1], n_i[i])\n",
    "    return sum\n",
    "def quadNSimp(f, a, b, N, method=I_midpoint):\n",
    "    n_i = numpy.linspace(a, b, N + 1)\n",
    "    dx = n_i[1] - n_i[0]\n",
    "    sum = 0\n",
    "    for i in range(1,N+1):\n",
    "        sum += I_simpson(f, n_i[i-1], n_i[i])\n",
    "    return sum\n",
    "def quadNGL(f, a, b, N, method=I_midpoint):\n",
    "    n_i = numpy.linspace(a, b, N + 1)\n",
    "    dx = n_i[1] - n_i[0]\n",
    "    sum = 0\n",
    "    for i in range(1,N+1):\n",
    "        sum += I_GL3(f, n_i[i-1], n_i[i])\n",
    "    return sum\n"
   ]
  },
  {
   "cell_type": "code",
   "execution_count": 8,
   "metadata": {
    "deletable": false,
    "editable": false,
    "nbgrader": {
     "cell_type": "code",
     "checksum": "b13dd600ef7de18144333d8ac0a0c098",
     "grade": true,
     "grade_id": "cell-1f6027bc9e4241f3",
     "locked": true,
     "points": 4,
     "schema_version": 3,
     "solution": false,
     "task": false
    }
   },
   "outputs": [
    {
     "name": "stdout",
     "output_type": "stream",
     "text": [
      "N = 1, I = 0.8787825789354448, err = 0.042816841146467305\n",
      "N = 2, I = 0.8514725992856609, err = 0.010409158754012854\n",
      "N = 4, I = 0.844870665048331, err = 0.00257490216785125\n",
      "N = 8, I = 0.843241789735697, err = 0.0006419796806984446\n",
      "N = 16, I = 0.8428359498722815, err = 0.00016038542232009014\n",
      "success!\n"
     ]
    }
   ],
   "source": [
    "# Let's test against erf(1)\n",
    "\n",
    "x = 1.\n",
    "I_true = erf(x)\n",
    "f = lambda x : 2./numpy.sqrt(numpy.pi) * numpy.exp(-x*x)\n",
    "\n",
    "# set the number of panels in a list\n",
    "N = [ 2**n for n in range (5)]\n",
    "\n",
    "# integrate using the extended mid-point scheme and calculate relative errors for each N\n",
    "err = numpy.zeros(len(N))\n",
    "for i,n in enumerate(N):\n",
    "    I = quadN(f, 0., x, n, method=I_midpoint)\n",
    "    err[i] = numpy.abs(I - I_true)/numpy.abs(I_true)\n",
    "    print('N = {}, I = {}, err = {}'.format(n, I, err[i]) )\n",
    "    \n",
    "answer = numpy.array([0.0428168411464673, 0.0104091587540129,\n",
    "                      0.0025749021678512, 0.0006419796806984,\n",
    "                      0.0001603854223201])\n",
    "numpy.testing.assert_allclose(answer,err)\n",
    "print('success!')\n",
    "                    "
   ]
  },
  {
   "cell_type": "markdown",
   "metadata": {},
   "source": [
    "**(d)** [10] Now *write a function* to make a plot that  compares the convergence behavior of all of the above methods (if you make it a function, you will be able to reuse it in the next  problem).\n",
    "\n",
    "\n",
    "This function should  make a single, beautiful log-log plot with the following information\n",
    "\n",
    "* plot the *relative error* for each quadrature rule with respect to \n",
    "$$\n",
    "    I_{true} = \\mathrm{erf}(1) = 0.8427007929497148\n",
    "$$\n",
    "for \n",
    "$$\n",
    "    N = 2^n \\quad \\text{panels}\\quad \\text{for}\\, n=0,1,\\ldots,10\n",
    "$$\n",
    "\n",
    "* a legend that labels each curve with the name of the method\n",
    "\n",
    "Hint 1: there are some nice python tricks for doing this relatively efficiently, e.g. you can loop over a list of methods and extract the name with \n",
    "\n",
    "`name = method.__name__`\n",
    "\n",
    "\n",
    "* the calculated rate of convergence of each  scheme. \n",
    "\n",
    "Note, if we define the convergence behavior of the error as\n",
    "$$\n",
    "    |e| = C\\Delta x^p\n",
    "$$\n",
    "\n",
    "calculate $C$ and $p$ for each method and plot the best fit straight-line in $\\log(\\Delta x)-\\log(e)$ space (hint: `numpy.polyfit` is your friend).  Add the best fit value of $p$ to the legend.  Hint 2: be careful not to include floating point issues in your fit. "
   ]
  },
  {
   "cell_type": "code",
   "execution_count": 15,
   "metadata": {
    "deletable": false,
    "nbgrader": {
     "cell_type": "code",
     "checksum": "7c671abfa500fc1dacee7f86cc6553c1",
     "grade": false,
     "grade_id": "cell-4660d6ac4039cdea",
     "locked": false,
     "schema_version": 3,
     "solution": true,
     "task": false
    }
   },
   "outputs": [],
   "source": [
    "def plot_quad_convergence(f, a, b, N, I_true, title=None):\n",
    "    \"\"\" create a convergence log-log plot that plots relative error of \n",
    "    various extended quadrature schemes vs panel spacing dx\n",
    "    \n",
    "    If really fancy, also calculates the best fit straight line in log-log space to estimate convergence\n",
    "    parameters\n",
    "    \n",
    "    Parameters:\n",
    "    -----------\n",
    "        \n",
    "    f:  function f(x) (type real)\n",
    "    a: real\n",
    "        left boundary of interval\n",
    "    b: real\n",
    "        right boundary of interval\n",
    "    N: List of integers \n",
    "        number of panels to subdivide [a,b]\n",
    "    I_true:  real\n",
    "        True solution to compute errors\n",
    "    title:  string\n",
    "        title of plot (if not None)\n",
    "            \n",
    "    Returns:\n",
    "    --------\n",
    "    Nothing but generates a pretty log-log plot all properly labeled\n",
    "    \n",
    "    \"\"\"  \n",
    "\n",
    "    N_range = numpy.array(N)\n",
    "    delta_x = numpy.empty(N_range.shape[0]+1)\n",
    "    error = numpy.empty((N_range.shape[0]+1, 5))\n",
    "    p = numpy.empty(5)\n",
    "    for (i, N) in enumerate(N):\n",
    "        x_hat = numpy.linspace(a, b, N+1)\n",
    "        delta_x[i] = x_hat[1] - x_hat[0]\n",
    "        error[i, 0] = numpy.abs(I_true - quadNLeft(f, a, b, N, method = I_midpoint))\n",
    "        error[i, 1] = numpy.abs(I_true - quadNMidpoint(f, a, b, N, method = I_midpoint))\n",
    "        error[i, 2] = numpy.abs(I_true - quadNTrap(f, a, b, N, method = I_trapezoid))\n",
    "        error[i, 3] = numpy.abs(I_true - quadNSimp(f, a, b, N, method = I_simpson))\n",
    "        error[i, 4] = numpy.abs(I_true - quadNGL(f, a, b, N, method = I_GL3))\n",
    "    for i in range(0, 5):\n",
    "        p[i] = round((numpy.polyfit(numpy.log(delta_x[0:6]), numpy.log(error[0:6,i]), 1))[0], 3)\n",
    "    order_C = lambda delta_x, error, order: numpy.exp(numpy.log(error) - order * numpy.log(delta_x))\n",
    "    error = numpy.array(error)\n",
    "    delta_x = numpy.array(delta_x)\n",
    "    fig = plt.figure(figsize=(8,6))\n",
    "    axes = fig.add_subplot(1,1,1)\n",
    "    axes.loglog(delta_x, error[:,0], 'yo', label='$left$ P={}'.format(p[0]))\n",
    "    axes.loglog(delta_x, error[:,1], 'ro', label='$midpoint$ P={}'.format(p[1]))\n",
    "    axes.loglog(delta_x, error[:,2], 'bo', label='$trapezoid$ P={}'.format(p[2]))\n",
    "    axes.loglog(delta_x, error[:,3], 'ko', label='$simpson$ P={}'.format(p[3]))\n",
    "    axes.loglog(delta_x, error[:,4], 'go', label='$GL3$ P={}'.format(p[4]))\n",
    "    axes.loglog(delta_x, order_C(delta_x[1], error[1, 0], p[0]) * delta_x**p[0], 'y')\n",
    "    axes.loglog(delta_x, order_C(delta_x[1], error[1, 1], p[1]) * delta_x**p[1], 'r')\n",
    "    axes.loglog(delta_x, order_C(delta_x[1], error[1, 2], p[2]) * delta_x**p[2], 'b')\n",
    "    axes.loglog(delta_x, order_C(delta_x[1], error[1, 3], p[3]) * delta_x**p[3], 'k')\n",
    "    axes.loglog(delta_x, order_C(delta_x[1], error[1, 4], p[4]) * delta_x**p[4], 'g')\n",
    "    axes.legend(loc=4)\n",
    "    axes.set_title(\"Convergence of different method\", fontsize=18)\n",
    "    axes.set_xlabel(\"$\\Delta x$\", fontsize=16)\n",
    "    axes.set_ylabel(\"Error\", fontsize=16)\n",
    "    axes.legend(loc='best', fontsize=14)\n",
    "    axes.grid()\n",
    "    plt.show() "
   ]
  },
  {
   "cell_type": "code",
   "execution_count": 14,
   "metadata": {
    "deletable": false,
    "editable": false,
    "nbgrader": {
     "cell_type": "code",
     "checksum": "fcf225a54de7ce5c4d5c480d050c14e9",
     "grade": true,
     "grade_id": "cell-4660d6ac40234983",
     "locked": true,
     "points": 10,
     "schema_version": 3,
     "solution": false,
     "task": false
    }
   },
   "outputs": [
    {
     "name": "stderr",
     "output_type": "stream",
     "text": [
      "<ipython-input-13-b5574e4a145d>:56: RuntimeWarning: divide by zero encountered in power\n",
      "  axes.loglog(delta_x, order_C(delta_x[1], error[1, 3], p[3]) * delta_x**p[3], 'k--')\n"
     ]
    },
    {
     "data": {
      "image/png": "[encoded data removed]",
      "text/plain": [
       "<Figure size 576x432 with 1 Axes>"
      ]
     },
     "metadata": {
      "needs_background": "light"
     },
     "output_type": "display_data"
    }
   ],
   "source": [
    "#Let's test with erf(1) and a lot of points\n",
    "\n",
    "x = 1.\n",
    "I_true = erf(x)\n",
    "f = lambda x : 2./numpy.sqrt(numpy.pi) * numpy.exp(-x*x)    \n",
    "\n",
    "N = [ 2**n for n in range (11)]\n",
    "\n",
    "plot_quad_convergence(f, 0., 1., N, I_true, 'erf(1.)')"
   ]
  },
  {
   "cell_type": "markdown",
   "metadata": {
    "deletable": false,
    "editable": false,
    "nbgrader": {
     "cell_type": "markdown",
     "checksum": "a2d86282670923bb7658b6cac3384759",
     "grade": false,
     "grade_id": "cell-afe493064c8d3820",
     "locked": true,
     "schema_version": 3,
     "solution": false,
     "task": false
    }
   },
   "source": [
    "**(e)** [3] Estimate the number of *function evaluations* required to get a relative error $e \\approx 10^{-7}$ i.e. about 7 digits of precision for the schemes\n",
    "\n",
    "* Mid-point\n",
    "* Simpson's\n",
    "* 3-Pt GL quadrature\n"
   ]
  },
  {
   "cell_type": "markdown",
   "metadata": {
    "deletable": false,
    "nbgrader": {
     "cell_type": "markdown",
     "checksum": "6ac87dd21ab641341de4d3787e28ad44",
     "grade": true,
     "grade_id": "cell-8625e6a922cd3352",
     "locked": false,
     "points": 3,
     "schema_version": 3,
     "solution": true,
     "task": false
    }
   },
   "source": [
    "left square cannot get a precision below 10e-7,\n",
    "midpoint needs about 190 N,\n",
    "simpson about 5, \n",
    "3GL about 2."
   ]
  },
  {
   "cell_type": "markdown",
   "metadata": {
    "deletable": false,
    "editable": false,
    "nbgrader": {
     "cell_type": "markdown",
     "checksum": "873062154e7804823aa04f2506934094",
     "grade": false,
     "grade_id": "cell-7913098871853593",
     "locked": true,
     "schema_version": 3,
     "solution": false
    }
   },
   "source": [
    "## Question 2\n",
    "\n",
    "Let's repeat the problem with a harder integral.\n",
    "\n",
    "Consider the scaled Fresnel integrals\n",
    "\n",
    "$$I_c = \\int^1_0 \\frac{\\cos x}{\\sqrt{x}} dx~~~~\\text{and}~~~~I_s = \\int^1_0 \\frac{\\sin x}{\\sqrt{x}} dx$$\n",
    "\n",
    "which have values\n",
    "\n",
    "$$I_c = \\sqrt{2 \\pi} \\cdot C\\left(\\sqrt{\\frac{2}{\\pi}}\\right) \\approx 1.8090484758005438$$\n",
    "\n",
    "$$I_s = \\sqrt{2 \\pi} \\cdot S\\left(\\sqrt{\\frac{2}{\\pi}}\\right) \\approx 0.62053660344676231$$\n",
    "\n",
    "where the functions $C(x)$ and $S(x)$ can be evaluated by `scipy.special.fresnel`.\n"
   ]
  },
  {
   "cell_type": "markdown",
   "metadata": {
    "deletable": false,
    "editable": false,
    "nbgrader": {
     "cell_type": "markdown",
     "checksum": "222f7d5236736b8a0776cb02ca1df5b4",
     "grade": false,
     "grade_id": "cell-8ebcf647bbb397eb",
     "locked": true,
     "schema_version": 3,
     "solution": false
    }
   },
   "source": [
    "**(a)** [2] Where do you imagine the problematic points of the integrals will be?"
   ]
  },
  {
   "cell_type": "markdown",
   "metadata": {
    "deletable": false,
    "nbgrader": {
     "cell_type": "markdown",
     "checksum": "43f6c40a1d1510407671a7fd52b23b89",
     "grade": true,
     "grade_id": "cell-52b455a70eeda752",
     "locked": false,
     "points": 2,
     "schema_version": 3,
     "solution": true
    }
   },
   "source": [
    "YOUR ANSWER HERE"
   ]
  },
  {
   "cell_type": "markdown",
   "metadata": {
    "deletable": false,
    "editable": false,
    "nbgrader": {
     "cell_type": "markdown",
     "checksum": "90b26b9a2d890e91ad20980c2f8d454d",
     "grade": false,
     "grade_id": "cell-1280863455188854",
     "locked": true,
     "schema_version": 3,
     "solution": false
    }
   },
   "source": [
    "**(b)** [4] Use your convergence plotting routine to make  2 plots showing convergence behavior for all the extended quadrature rules for $I_c$ and $I_s$ "
   ]
  },
  {
   "cell_type": "code",
   "execution_count": 11,
   "metadata": {
    "deletable": false,
    "editable": false,
    "nbgrader": {
     "cell_type": "code",
     "checksum": "7ebf34615245a87bea24a1c1ba31976d",
     "grade": false,
     "grade_id": "cell-b8c9ff40cd5c59c5",
     "locked": true,
     "schema_version": 3,
     "solution": false,
     "task": false
    }
   },
   "outputs": [],
   "source": [
    "# Set the True solutions for reference\n",
    "Is_true, Ic_true = fresnel(numpy.sqrt(2.0 / numpy.pi))\n",
    "Is_true *= numpy.sqrt(2.0 * numpy.pi)\n",
    "Ic_true *= numpy.sqrt(2.0 * numpy.pi)"
   ]
  },
  {
   "cell_type": "code",
   "execution_count": 12,
   "metadata": {
    "deletable": false,
    "nbgrader": {
     "cell_type": "code",
     "checksum": "e0d01a567f26eec13643ac678addf4b8",
     "grade": true,
     "grade_id": "cell-4769111180699037",
     "locked": false,
     "points": 4,
     "schema_version": 3,
     "solution": true,
     "task": false
    }
   },
   "outputs": [
    {
     "ename": "NotImplementedError",
     "evalue": "",
     "output_type": "error",
     "traceback": [
      "\u001b[0;31m---------------------------------------------------------------------------\u001b[0m",
      "\u001b[0;31mNotImplementedError\u001b[0m                       Traceback (most recent call last)",
      "\u001b[0;32m<ipython-input-12-15b94d1fa268>\u001b[0m in \u001b[0;36m<module>\u001b[0;34m\u001b[0m\n\u001b[1;32m      1\u001b[0m \u001b[0;31m# YOUR CODE HERE\u001b[0m\u001b[0;34m\u001b[0m\u001b[0;34m\u001b[0m\u001b[0;34m\u001b[0m\u001b[0m\n\u001b[0;32m----> 2\u001b[0;31m \u001b[0;32mraise\u001b[0m \u001b[0mNotImplementedError\u001b[0m\u001b[0;34m(\u001b[0m\u001b[0;34m)\u001b[0m\u001b[0;34m\u001b[0m\u001b[0;34m\u001b[0m\u001b[0m\n\u001b[0m",
      "\u001b[0;31mNotImplementedError\u001b[0m: "
     ]
    }
   ],
   "source": [
    "# YOUR CODE HERE\n",
    "raise NotImplementedError()"
   ]
  },
  {
   "cell_type": "markdown",
   "metadata": {
    "deletable": false,
    "editable": false,
    "nbgrader": {
     "cell_type": "markdown",
     "checksum": "8f2038ab50a4c886d293dedb1a869c07",
     "grade": false,
     "grade_id": "cell-9da6810b250515c1",
     "locked": true,
     "schema_version": 3,
     "solution": false,
     "task": false
    }
   },
   "source": [
    "**(c)**  [4] Explain the results of your plots"
   ]
  },
  {
   "cell_type": "markdown",
   "metadata": {
    "deletable": false,
    "nbgrader": {
     "cell_type": "markdown",
     "checksum": "a757dade2565bc279dd29509dc7f7175",
     "grade": true,
     "grade_id": "cell-63c5719c37c551a7",
     "locked": false,
     "points": 4,
     "schema_version": 3,
     "solution": true,
     "task": false
    }
   },
   "source": [
    "YOUR ANSWER HERE"
   ]
  },
  {
   "cell_type": "markdown",
   "metadata": {
    "deletable": false,
    "editable": false,
    "nbgrader": {
     "cell_type": "markdown",
     "checksum": "f34fc6440d2bf6c705a7f05f1851b890",
     "grade": false,
     "grade_id": "cell-4978686228436492",
     "locked": true,
     "schema_version": 3,
     "solution": false
    }
   },
   "source": [
    "**(d)** [4] show that the convergence and the quadrature schemes can be dramatically improved simply by tranforming the variable $x$ with $x=t^2$\n",
    "\n",
    "1. Show analytically what the transformed integral should be\n",
    "2. produce two more plots demonstrating convergence behaviour\n",
    "3. comment on the results"
   ]
  },
  {
   "cell_type": "markdown",
   "metadata": {
    "deletable": false,
    "nbgrader": {
     "cell_type": "markdown",
     "checksum": "35864666b5625c7e749afeac806160eb",
     "grade": true,
     "grade_id": "cell-497868628436492",
     "locked": false,
     "points": 4,
     "schema_version": 3,
     "solution": true
    }
   },
   "source": [
    "YOUR ANSWER HERE"
   ]
  },
  {
   "cell_type": "code",
   "execution_count": null,
   "metadata": {
    "deletable": false,
    "nbgrader": {
     "cell_type": "code",
     "checksum": "a8dbac5be031598051fa0c34127ecd6f",
     "grade": true,
     "grade_id": "cell-eb376330eaf94f20",
     "locked": false,
     "points": 2,
     "schema_version": 3,
     "solution": true,
     "task": false
    }
   },
   "outputs": [],
   "source": [
    "# YOUR CODE HERE\n",
    "raise NotImplementedError()"
   ]
  },
  {
   "cell_type": "markdown",
   "metadata": {
    "deletable": false,
    "nbgrader": {
     "cell_type": "markdown",
     "checksum": "6ce23a474c27cd96722f8c415b9bc5d4",
     "grade": true,
     "grade_id": "cell-7860584774817940",
     "locked": false,
     "points": 2,
     "schema_version": 3,
     "solution": true
    }
   },
   "source": [
    "YOUR ANSWER HERE"
   ]
  }
 ],
 "metadata": {
  "kernelspec": {
   "display_name": "Python 3",
   "language": "python",
   "name": "python3"
  },
  "language_info": {
   "codemirror_mode": {
    "name": "ipython",
    "version": 3
   },
   "file_extension": ".py",
   "mimetype": "text/x-python",
   "name": "python",
   "nbconvert_exporter": "python",
   "pygments_lexer": "ipython3",
   "version": "3.8.8"
  }
 },
 "nbformat": 4,
 "nbformat_minor": 4
}
