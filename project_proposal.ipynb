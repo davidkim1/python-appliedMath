{
 "cells": [
  {
   "cell_type": "markdown",
   "metadata": {},
   "source": [
    "Before you turn this problem in, make sure everything runs as expected. First, **restart the kernel** (in the menubar, select Kernel$\\rightarrow$Restart) and then **run all cells** (in the menubar, select Cell$\\rightarrow$Run All).\n",
    "\n",
    "Make sure you fill in any place that says `YOUR CODE HERE` or \"YOUR ANSWER HERE\", as well as any collaborators you worked with:"
   ]
  },
  {
   "cell_type": "code",
   "execution_count": null,
   "metadata": {},
   "outputs": [],
   "source": [
    "COLLABORATORS = \"\""
   ]
  },
  {
   "cell_type": "markdown",
   "metadata": {},
   "source": [
    "---"
   ]
  },
  {
   "cell_type": "code",
   "execution_count": null,
   "metadata": {},
   "outputs": [],
   "source": [
    "%matplotlib inline\n",
    "%precision 16\n",
    "import numpy\n",
    "import matplotlib.pyplot as plt\n",
    "import pandas as pd\n",
    "import datac"
   ]
  },
  {
   "cell_type": "markdown",
   "metadata": {
    "deletable": false,
    "editable": false,
    "nbgrader": {
     "cell_type": "markdown",
     "checksum": "b7d53204e6a3b97e8e6bad19bcbe6068",
     "grade": false,
     "grade_id": "cell-c4123d20c3a14019",
     "locked": true,
     "schema_version": 3,
     "solution": false,
     "task": false
    }
   },
   "source": [
    "# Proposal for  the Final Project\n",
    "\n",
    "This notebook is primarily to get you started thinking about what you would like to do for a project and as input for mini-conferences that we can have to help you refine the scope and deliverables for the project.\n",
    "\n",
    "It will be worth **5 points** if it is completed (there are no wrong answers here except for no answers).  \n",
    "\n",
    "----------------------------\n",
    "\n",
    "#### Some background on the project\n",
    "\n",
    "The purpose of the project is 2-fold\n",
    "\n",
    "* To give you an opportunity to work on a problem you are truly interested in (as this is the best way to actually learn something)\n",
    "* To demonstrate to me that you understand the overall workflow of problem solving from problem selection to implementation to discussion \n",
    "\n",
    "You can choose any subject area that interests you as long as there is a computational component to it.  However, please do not reuse projects or homeworks you have done in other classes.  This should be **your** original work.\n",
    "\n",
    "\n",
    "\n"
   ]
  },
  {
   "cell_type": "markdown",
   "metadata": {
    "deletable": false,
    "editable": false,
    "nbgrader": {
     "cell_type": "markdown",
     "checksum": "eed56ea80bcbe9eb5a66f7cabfe5e516",
     "grade": false,
     "grade_id": "cell-318b53f4ed873060",
     "locked": true,
     "schema_version": 3,
     "solution": false,
     "task": false
    }
   },
   "source": [
    "## Instructions\n",
    "\n",
    "With a few paragraphs (max),  propose a problem that you would like to work on for the independent class project. \n",
    "\n",
    "Your proposal should include the following:\n",
    "\n",
    "* A brief statement of the general problem (e.g. Solve an ODE model for pandemics, explore/reproduce an algorithm you saw in a class or paper)\n",
    "* A brief statement of why the problem is important (to you or to a larger audience, or both)\n",
    "* A brief statement of the computational tools you expect to use or want to explore.\n",
    "* A brief statement of what you hope to gain from the project\n",
    "\n",
    "**Notes/Comments:**\n",
    "\n",
    "* you are not limited to methods we talked about in class (e.g. you could explore spectral methods, ML algorithms etc)\n",
    "* Some good approaches for picking a problem include\n",
    "  * There is a classic paper on some problem that you would like to learn by reproducing some of their results\n",
    "  * You are currently engaged in research, and there is some relevant technique/problem you would like to explore\n",
    "  * There is a subject we covered that you want to explore in more depth.\n",
    "  \n",
    "Again...I am relatively agnostic to problem choice as long as it's computational in nature and of interest to you.  Write down your best thoughts and we can iterate.  \n",
    "\n",
    "    \n"
   ]
  },
  {
   "cell_type": "markdown",
   "metadata": {
    "deletable": false,
    "nbgrader": {
     "cell_type": "markdown",
     "checksum": "b659f95e9f6fbb8679cb1b03f0da3421",
     "grade": true,
     "grade_id": "cell-f3a6a5fa3a14f053",
     "locked": false,
     "points": 5,
     "schema_version": 3,
     "solution": true,
     "task": false
    }
   },
   "source": [
    "I would like to explore the error between the black scholes model and the heston model for crypto currencies. This problem is important to me as becuase I have been involved in crypto trading for over 7 years and have used different techniques suchs as arbitrage, and used futures but never based on mathematical models. It is relevant becasue I have heard that the black scholes model does not do very well with changing volatility which I think cryptos do, so I wanted to test whether the heston model would be more accurate. I hope I can gain a strategy that I can use for my personal trading and a better understanding on trading based on maths instead of news and spec"
   ]
  }
 ],
 "metadata": {
  "kernelspec": {
   "display_name": "Python 3",
   "language": "python",
   "name": "python3"
  },
  "language_info": {
   "codemirror_mode": {
    "name": "ipython",
    "version": 3
   },
   "file_extension": ".py",
   "mimetype": "text/x-python",
   "name": "python",
   "nbconvert_exporter": "python",
   "pygments_lexer": "ipython3",
   "version": "3.8.8"
  },
  "latex_envs": {
   "bibliofile": "biblio.bib",
   "cite_by": "apalike",
   "current_citInitial": 1,
   "eqLabelWithNumbers": true,
   "eqNumInitial": 0
  }
 },
 "nbformat": 4,
 "nbformat_minor": 4
}
