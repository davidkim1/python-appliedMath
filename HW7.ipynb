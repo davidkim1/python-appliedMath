{
 "cells": [
  {
   "cell_type": "markdown",
   "metadata": {},
   "source": [
    "Before you turn this problem in, make sure everything runs as expected. First, **restart the kernel** (in the menubar, select Kernel$\\rightarrow$Restart) and then **run all cells** (in the menubar, select Cell$\\rightarrow$Run All).\n",
    "\n",
    "Make sure you fill in any place that says `YOUR CODE HERE` or \"YOUR ANSWER HERE\", as well as any collaborators you worked with:"
   ]
  },
  {
   "cell_type": "code",
   "execution_count": 1,
   "metadata": {},
   "outputs": [],
   "source": [
    "COLLABORATORS = \"\""
   ]
  },
  {
   "cell_type": "markdown",
   "metadata": {},
   "source": [
    "---"
   ]
  },
  {
   "cell_type": "code",
   "execution_count": 3,
   "metadata": {},
   "outputs": [],
   "source": [
    "from __future__ import print_function\n",
    "%matplotlib inline\n",
    "%precision 16\n",
    "import numpy\n",
    "import matplotlib.pyplot as plt\n",
    "import time"
   ]
  },
  {
   "cell_type": "markdown",
   "metadata": {
    "deletable": false,
    "editable": false,
    "nbgrader": {
     "cell_type": "markdown",
     "checksum": "f62b3cb0afd2d6e2c63a54956a4d1185",
     "grade": false,
     "grade_id": "cell-6282430347078978",
     "locked": true,
     "schema_version": 3,
     "solution": false
    }
   },
   "source": [
    "# HW 7:  Intro to Linear Algebra\n",
    "\n"
   ]
  },
  {
   "cell_type": "markdown",
   "metadata": {
    "deletable": false,
    "editable": false,
    "nbgrader": {
     "cell_type": "markdown",
     "checksum": "945d8fe27832662b80abea0165c227d9",
     "grade": false,
     "grade_id": "cell-44c8b908984ef1e5",
     "locked": true,
     "schema_version": 3,
     "solution": false,
     "task": false
    }
   },
   "source": [
    "# Linear Algebra: Part 1"
   ]
  },
  {
   "cell_type": "markdown",
   "metadata": {
    "deletable": false,
    "editable": false,
    "nbgrader": {
     "cell_type": "markdown",
     "checksum": "375193d42fad3b5b058388a273373db3",
     "grade": false,
     "grade_id": "cell-5c00cac6658708b9",
     "locked": true,
     "schema_version": 3,
     "solution": false,
     "task": false
    }
   },
   "source": [
    "## Question 1: Matrix Norms and Condition Numbers\n",
    "\n",
    "Consider the Matrices\n",
    "\n",
    "$$\n",
    "    A = \\begin{bmatrix} 1 & 1 \\\\\n",
    "                        1 & a \\\\\n",
    "         \\end{bmatrix} \\quad\\quad\n",
    "     A^{-1} = \\frac{1}{a-1}\\begin{bmatrix} a & -1 \\\\\n",
    "                        -1 & 1 \\\\\n",
    "         \\end{bmatrix} \n",
    "$$\n",
    "where $a\\in\\mathbb{R}$"
   ]
  },
  {
   "cell_type": "markdown",
   "metadata": {
    "deletable": false,
    "editable": false,
    "nbgrader": {
     "cell_type": "markdown",
     "checksum": "9d7e1ac48fb1830efd68fa829c66546c",
     "grade": false,
     "grade_id": "cell-d8dd915976890ea8",
     "locked": true,
     "schema_version": 3,
     "solution": false,
     "task": false
    }
   },
   "source": [
    "**(a)** [6] Analytically calculate, as a function of $a$\n",
    "\n",
    "* the induced $p$-norm $||A||_p$ \n",
    "* the $p$ condition number $\\kappa_p(A) =||A||_p||A^{-1}||_p$ \n",
    "\n",
    "consider  $p=1,2,\\infty$\n",
    "\n",
    "(hint: for a symmetric matrix, the singular values are equal to the absolute value of the eigenvalues of $A$ (sorted from largest to smallest))"
   ]
  },
  {
   "cell_type": "markdown",
   "metadata": {
    "deletable": false,
    "nbgrader": {
     "cell_type": "markdown",
     "checksum": "310fd020c52ea030a0b60ce06ba7da93",
     "grade": true,
     "grade_id": "cell-d7fc247b7e748b9b",
     "locked": false,
     "points": 6,
     "schema_version": 3,
     "solution": true,
     "task": false
    }
   },
   "source": [
    "$||A||_p$  \\\n",
    "$\\quad$Induced 1-norm is the max of the 1-norm of columns of A \\\n",
    "$\\quad$p=1 \\\n",
    "$\\quad$For -1 $\\leqq$ a $\\leqq$ 1: \\\n",
    "$\\qquad$$||A||_1$ = 2 $\\qquad$ $K_1$(A)= $||A||_1 ||A^{-1}||_{P1}$ = 2$\\cdot \\frac{2}{a-1}$ = $\\frac{4}{a-1}$ \\\n",
    "$\\quad$For a $\\leqq$ -1 or a $\\geq$ 1: \\  \n",
    "$\\qquad$$||A||_1$ = 1 | $||a|| \\qquad K_1$(A)=(1+$|a|$)$\\cdot \\frac{1+|a|}{a-1}$=$\\frac{(1+|a|)^2}{a-1}$ \\\n",
    "$\\quad$p=2 \\\n",
    "$\\quad$Induced 2-norm is the max sigular value \\\n",
    "$\\qquad$ A = $U\\Sigma V^T$ \\\n",
    "$\\qquad$$||A||_2$ = $\\frac{1}{2}(a+1\\pm\\sqrt{a^2-2a+5}$) \\\n",
    "$\\quad$p=$\\infty$ \\\n",
    "$\\quad$Induced $\\infty$-norm is the 1-norm of rows of A. \\\n",
    "$\\quad$For -1 $\\leqq$ a $\\leqq$ 1: \\\n",
    "$\\qquad$$||A||_{\\infty}$=2 $\\qquad$ $K_{\\infty}$(A)=$\\frac{4}{a-1}$ \\\n",
    "$\\quad$For a $<$ -1 or a $>$ 1: $\\qquad$ $K_{\\infty}$(A)=$\\frac{(1+|a|)^2}{a-1}$ \\\n",
    "$\\quad$p=2 $\\quad K_{2}(A) = \\frac{1}{2}(a+1\\pm\\sqrt{a^2-2a+5})\\cdot\\frac{1}{2(a-1)}(a+1\\pm\\sqrt{a^2-2a+5})$ "
   ]
  },
  {
   "cell_type": "markdown",
   "metadata": {
    "deletable": false,
    "editable": false,
    "nbgrader": {
     "cell_type": "markdown",
     "checksum": "1231f4e7c5b03567326bfbde490b610f",
     "grade": false,
     "grade_id": "cell-939ff0252d09d20b",
     "locked": true,
     "schema_version": 3,
     "solution": false,
     "task": false
    }
   },
   "source": [
    "**(b)** [6] write two short python routine that returns $||A||_p$, and $\\kappa_p(A)$ for the matrices in part (a). Again, just consider $p=1,2,\\infty$) and raise a ValueError if $p$ is any other value."
   ]
  },
  {
   "cell_type": "code",
   "execution_count": 4,
   "metadata": {
    "deletable": false,
    "nbgrader": {
     "cell_type": "code",
     "checksum": "b5572b1eb7f3d61ed1735299ea664f30",
     "grade": false,
     "grade_id": "cell-c667be6cb51d494a",
     "locked": false,
     "schema_version": 3,
     "solution": true,
     "task": false
    }
   },
   "outputs": [],
   "source": [
    "def mypnorm(a, p ):\n",
    "    \"\"\"\n",
    "    return ||A||_p for A = [[ 1, 1],\n",
    "                            [ 1, a]]\n",
    "                            \n",
    "    for p=1, 2, or numpy.infty\n",
    "    \n",
    "    parameters:\n",
    "    -----------\n",
    "    \n",
    "    a: scalar \n",
    "        value of a\n",
    "    p: scalar\n",
    "        1, 2 or np.infty\n",
    "    returns:\n",
    "    --------\n",
    "    pnorm(a)\n",
    "    \n",
    "    raises:\n",
    "    --------\n",
    "    ValueError:  if p is not in [ 1, 2, numpy.infty]\n",
    "    \"\"\"\n",
    "    A = numpy.array([ [ 1, 1], [1, a]])\n",
    "    \n",
    "    if p == numpy.inf:\n",
    "        norm = numpy.max(numpy.sum(numpy.abs(A), axis=1))\n",
    "        #norm = numpy.max(numpy.abs(a))\n",
    "    elif p == 1:\n",
    "        norm = numpy.max(numpy.sum(numpy.abs(A), axis=0))\n",
    "        #norm = 1+numpy.sum(numpy.abs(a)**p)**(1./p)\n",
    "    elif p == 2:\n",
    "        norm = numpy.max(numpy.linalg.svd(A, compute_uv=False))\n",
    "        #norm = 1+numpy.sum(numpy.abs(a)**p)**(1./p)\n",
    "    else:\n",
    "        raise ValueError \n",
    "    \n",
    "    #return numpy.linalg.norm(A(a), ord=p)\n",
    "    return norm\n",
    "    \n",
    "def mycond(a, p):\n",
    "    \"\"\"\n",
    "    write your own docstring to return the condition number\n",
    "    \"\"\"\n",
    "    if p in [1, 2, numpy.infty]:\n",
    "        if p == 1 or p == numpy.infty :\n",
    "            return (1/abs(a-1)) * max(2, 1 + abs(a))**2\n",
    "        else:\n",
    "            z = numpy.sqrt(a**2 - 2*a +5)\n",
    "            return(1/4/abs(a-1)) * max(abs(a+1+z), abs(a+1-z))**2\n",
    "    else:\n",
    "        raise ValueError\n",
    "          "
   ]
  },
  {
   "cell_type": "code",
   "execution_count": 5,
   "metadata": {
    "deletable": false,
    "editable": false,
    "nbgrader": {
     "cell_type": "code",
     "checksum": "602939281f7495713121358d809f1145",
     "grade": true,
     "grade_id": "cell-3006090e2e083282",
     "locked": true,
     "points": 6,
     "schema_version": 3,
     "solution": false,
     "task": false
    }
   },
   "outputs": [
    {
     "name": "stdout",
     "output_type": "stream",
     "text": [
      "||A||_1 = [3.0, 2.0, 2.0000999999999998, 3.0]\n",
      "||A||_2 = [2.302775637731995, 1.618033988749895, 2.0000500012499995, 2.618033988749895]\n",
      "||A||_inf = [3.0, 2.0, 2.0000999999999998, 3.0]\n",
      "Successful Norm test\n",
      "k(A)_1 = [3.0, 4.0, 40004.00010000439, 9.0]\n",
      "k(A)_2 = [1.7675918792439984, 2.618033988749895, 40002.00007500566, 6.854101966249685]\n",
      "k(A)_inf = [3.0, 4.0, 40004.00010000439, 9.0]\n",
      "Successful condition number test\n",
      "Success: you caught the ValueError\n"
     ]
    }
   ],
   "source": [
    "A = lambda a: numpy.array([ [ 1, 1], [1, a]])\n",
    "aa = numpy.array([ -2, 0, 1.0001, 2])\n",
    "\n",
    "\n",
    "for p in [ 1, 2, numpy.infty]:\n",
    "    normp = [ mypnorm(a, p) for a in aa]\n",
    "    test = [ numpy.linalg.norm(A(a), ord=p) for a in aa]    \n",
    "    print('||A||_{} = {}'.format(p, normp))\n",
    "    numpy.testing.assert_allclose(normp,test)\n",
    "print('Successful Norm test')\n",
    "\n",
    "for p in [ 1, 2, numpy.infty]:\n",
    "    condp = [ mycond(a, p) for a in aa]\n",
    "    test = [ numpy.linalg.cond(A(a), p) for a in aa]    \n",
    "    print('k(A)_{} = {}'.format(p, condp))\n",
    "    numpy.testing.assert_allclose(condp,test)\n",
    "print('Successful condition number test')\n",
    "\n",
    "# test the exception\n",
    "try:\n",
    "    mypnorm(0.,4)\n",
    "except ValueError as err:\n",
    "    print('Success: you caught the ValueError')\n",
    "else:\n",
    "    assert False, 'whoops, missed the exception'\n"
   ]
  },
  {
   "cell_type": "markdown",
   "metadata": {
    "deletable": false,
    "editable": false,
    "nbgrader": {
     "cell_type": "markdown",
     "checksum": "cf487ceb24463d0231424f53746b4c45",
     "grade": false,
     "grade_id": "cell-41eb679977efecde",
     "locked": true,
     "schema_version": 3,
     "solution": false,
     "task": false
    }
   },
   "source": [
    " **(c)** [4] Make a plot comparing $\\log(\\kappa(A))$ vs $a$ for the different matrix norms over the range $a\\in[-15,15]$. (you can check it by plotting `numpy.linalg.cond(A, ord)` as well. As always, make it pretty."
   ]
  },
  {
   "cell_type": "code",
   "execution_count": 18,
   "metadata": {
    "deletable": false,
    "nbgrader": {
     "cell_type": "code",
     "checksum": "eb7f103dadba8a5985a369568f9453a7",
     "grade": true,
     "grade_id": "cell-3545654a9ef25ac9",
     "locked": false,
     "points": 4,
     "schema_version": 3,
     "solution": true,
     "task": false
    }
   },
   "outputs": [
    {
     "data": {
      "image/png": "[encoded data removed]",
      "text/plain": [
       "<Figure size 1296x360 with 1 Axes>"
      ]
     },
     "metadata": {
      "needs_background": "light"
     },
     "output_type": "display_data"
    }
   ],
   "source": [
    "A = lambda a: numpy.array([[ 1, 1], [1, a]])\n",
    "a_range = numpy.linspace(-15, 15)\n",
    "\n",
    "cond_1 = [mycond(a, 1) for a in a_range]\n",
    "cond_2 = [mycond(a, 2) for a in a_range]\n",
    "cond_inf = [mycond(a, numpy.infty) for a in a_range]\n",
    "\n",
    "fig = plt.figure(figsize=(18, 5))\n",
    "axes = fig.add_subplot(1, 2, 1)\n",
    "axes.plot(a_range, numpy.log(cond_1), 'm*-', label = '1 norm')\n",
    "axes.plot(a_range, numpy.log(cond_2), 'bo-', label = '2 norm')\n",
    "axes.plot(a_range, numpy.log(cond_inf), 'k+-', label = 'inf norm')\n",
    "axes.set_xlabel('a', fontsize=16)\n",
    "axes.set_ylabel('log(k(A))', fontsize=16)\n",
    "axes.legend(loc='best',fontsize=14)\n",
    "axes.grid()"
   ]
  },
  {
   "cell_type": "markdown",
   "metadata": {
    "deletable": false,
    "editable": false,
    "nbgrader": {
     "cell_type": "markdown",
     "checksum": "3ba7346b5a7a8060b1df2d22447c339c",
     "grade": false,
     "grade_id": "cell-5fb5d0bb6e0da5c2",
     "locked": true,
     "schema_version": 3,
     "solution": false,
     "task": false
    }
   },
   "source": [
    "**(d)** [8] Given your plot comment on the following:\n",
    "* What value of $a$ gives the best conditioned matrix.  Why?\n",
    "* What value of $a$ gives the least well-condition matrix.  Why?\n",
    "* Does it matter which norm we measure the condition number in?\n",
    "* What value of $a$ gives the best conditioned matrix for $a>1$\n",
    " "
   ]
  },
  {
   "cell_type": "markdown",
   "metadata": {
    "deletable": false,
    "nbgrader": {
     "cell_type": "markdown",
     "checksum": "ae0dc4e2df0adf7f87903c41c861f0ee",
     "grade": true,
     "grade_id": "cell-a89f6c416aee9453",
     "locked": false,
     "points": 8,
     "schema_version": 3,
     "solution": true,
     "task": false
    }
   },
   "source": [
    "a) The values close to -1 appear to give the best conditioned matrix  \\\n",
    "b) When is close to 1 or at large positive and negative values we get the least well conditioned matrix.\\\n",
    "c) Yes as the scale on the y axis can differ even if the general shape and trend seems to be the same\\\n",
    "d) When a is close to 3 or equals 3"
   ]
  },
  {
   "cell_type": "markdown",
   "metadata": {
    "deletable": false,
    "editable": false,
    "nbgrader": {
     "cell_type": "markdown",
     "checksum": "182b150859e061266149ccce1cc29a18",
     "grade": false,
     "grade_id": "cell-d2fbff392abf8869",
     "locked": true,
     "schema_version": 3,
     "solution": false,
     "task": false
    }
   },
   "source": [
    "## Question 2: Conditioning and LU factorization\n",
    "\n",
    "Consider the two identical linear problems $A\\mathbf{x}=\\bf{b}$\n",
    "\n",
    "$$\n",
    "    \\begin{bmatrix} \\epsilon & 1 \\\\ 1 & 1 \\\\ \\end{bmatrix}\\mathbf{x}=\\begin{bmatrix} 1\\\\ 2\\end{bmatrix} \\quad\\quad\n",
    "     \\begin{bmatrix} 1 & 1 \\\\\\epsilon & 1 \\\\ \\end{bmatrix}\\mathbf{x}=\\begin{bmatrix} 2\\\\ 1\\end{bmatrix} \n",
    "$$\n",
    "where $\\epsilon \\ll \\epsilon_{mach}$"
   ]
  },
  {
   "cell_type": "markdown",
   "metadata": {
    "deletable": false,
    "editable": false,
    "nbgrader": {
     "cell_type": "markdown",
     "checksum": "348096f96c926a217a56d61a59bee46f",
     "grade": false,
     "grade_id": "cell-fe9f3bc24c4ad049",
     "locked": true,
     "schema_version": 3,
     "solution": false,
     "task": false
    }
   },
   "source": [
    "**(a)**  [6 pts] Find the 1 condition number of both matrices. Are they the same?  Are these matrices well conditioned? Check your answer using numpy with $\\epsilon = 0.1\\epsilon_{mach}$"
   ]
  },
  {
   "cell_type": "markdown",
   "metadata": {
    "deletable": false,
    "nbgrader": {
     "cell_type": "markdown",
     "checksum": "f0afa7a8b9179c7ba4fd7c7e8b3346be",
     "grade": true,
     "grade_id": "cell-2dc5b9cc6e893b84",
     "locked": false,
     "points": 4,
     "schema_version": 3,
     "solution": true,
     "task": false
    }
   },
   "source": [
    "Both matrices are well conditioned"
   ]
  },
  {
   "cell_type": "code",
   "execution_count": 23,
   "metadata": {
    "deletable": false,
    "nbgrader": {
     "cell_type": "code",
     "checksum": "9585c969563122ef5aa8b1d54cb9e8f5",
     "grade": true,
     "grade_id": "cell-224f9ba2c164bdf8",
     "locked": false,
     "points": 2,
     "schema_version": 3,
     "solution": true,
     "task": false
    }
   },
   "outputs": [
    {
     "name": "stdout",
     "output_type": "stream",
     "text": [
      "1-conditioned number 1 is 4.0, 1-conditioned number 2 is 4.0\n"
     ]
    }
   ],
   "source": [
    "eps = 0.1*numpy.finfo(float).eps\n",
    "\n",
    "A = numpy.array([[eps,1],[1,1]])\n",
    "B = numpy.array([[1,1],[eps,1]])\n",
    "\n",
    "condA = numpy.linalg.cond(A,1)\n",
    "condB = numpy.linalg.cond(B,1)\n",
    "\n",
    "print(\"1-conditioned number 1 is {}, 1-conditioned number 2 is {}\".format(condA, condB))"
   ]
  },
  {
   "cell_type": "markdown",
   "metadata": {
    "deletable": false,
    "editable": false,
    "nbgrader": {
     "cell_type": "markdown",
     "checksum": "6ec5c7d683734869baf680996b03574d",
     "grade": false,
     "grade_id": "cell-d71ae1170916d998",
     "locked": true,
     "schema_version": 3,
     "solution": false,
     "task": false
    }
   },
   "source": [
    "**(b)**  [4 pts] Find the analytic solution to both problems in infinite precision.  Are they the same?"
   ]
  },
  {
   "cell_type": "markdown",
   "metadata": {
    "deletable": false,
    "nbgrader": {
     "cell_type": "markdown",
     "checksum": "f3734b2ddcc5c34065849726695ae7e1",
     "grade": true,
     "grade_id": "cell-9ec345823ebf7cf2",
     "locked": false,
     "points": 4,
     "schema_version": 3,
     "solution": true,
     "task": false
    }
   },
   "source": [
    "From previous analysis on question 2a we could use:\\\n",
    "$$\n",
    "\\mathbf{x_1} = \\mathbf{A_1^{-1}b_1} \\\\\n",
    "\\mathbf{x_1} = \\begin{bmatrix} x_1\\\\x_2\\\\\\end{bmatrix} = \\frac{1}{\\epsilon -1}\\begin{bmatrix} 1 & -1 \\\\ -1 & \\epsilon \\end{bmatrix} \\\\\n",
    "\\mathbf{x_1} = \\frac{1}{\\epsilon -1}\\begin{bmatrix} -1 \\\\ -1 + 2 \\epsilon \\end{bmatrix} \\\\\n",
    "$$\n",
    "now we solve for $\\mathbf{x_2}$\n",
    "$$\n",
    "\\mathbf{x_2} = \\mathbf{A_2^{-1}b_2} \\\\\n",
    "\\mathbf{x_2} = \\begin{bmatrix} x_1\\\\x_2\\\\\\end{bmatrix} = \\frac{1}{1-\\epsilon}\\begin{bmatrix} 1 & -1 \\\\ -\\epsilon & 1 \\end{bmatrix} \\begin{bmatrix} 2 \\\\ 1 \\end{bmatrix} \\\\\n",
    "\\mathbf{x_1} = \\frac{1}{1-\\epsilon}\\begin{bmatrix} 1 \\\\ 1 - 2 \\epsilon \\end{bmatrix} = \\frac{1}{\\epsilon-1}\\begin{bmatrix} -1 \\\\ -1 + 2 \\epsilon \\end{bmatrix}\\\\\n",
    "$$\n",
    "From these results we can see that $x_1$ and $x_2$ are the same "
   ]
  },
  {
   "cell_type": "markdown",
   "metadata": {},
   "source": [
    "**(c)**  [4 pts] Now solve both problems analytically using the $LU$ decomposition *without pivoting* but applying the rules of floating point math.  Do you get the same answer?  "
   ]
  },
  {
   "cell_type": "markdown",
   "metadata": {},
   "source": [
    "the $LU$ decomposition of  \n",
    "$$ A_1 =  \\begin{bmatrix} \\epsilon & 1 \\\\ 1 & 1 \\\\ \\end{bmatrix}$$\n",
    "is\n",
    "\n",
    "$$ A_1 =  \\begin{bmatrix} 1 & 0 \\\\ \\frac{1}{\\epsilon} & 1 \\\\ \\end{bmatrix}\n",
    "          \\begin{bmatrix} \\epsilon & 1 \\\\ 0  & 1 - \\frac{1}{\\epsilon} \\\\ \\end{bmatrix}\n",
    "$$\n",
    "\n",
    "and for \n",
    "$$ A_2 =  \\begin{bmatrix}  1 & 1 \\\\ \\epsilon & 1 \\\\ \\end{bmatrix}$$\n",
    "with $LU$ factorization\n",
    "\n",
    "$$ A_2 =  \\begin{bmatrix} 1 & 0 \\\\ \\epsilon & 1 \\\\ \\end{bmatrix}\n",
    "          \\begin{bmatrix} 1 & 1 \\\\ 0  & 1 - \\epsilon \\\\ \\end{bmatrix}\n",
    "$$\n",
    "\n",
    "Solving $L\\mathbf{c} = \\mathbf{b}$ then $U\\mathbf{x}=\\mathbf{c}$ \n",
    "\n",
    "for the first problem:\n",
    "\n",
    "$$\n",
    "    L_1\\mathbf{c_1} = \\begin{bmatrix} 1\\\\2\\\\\\end{bmatrix}\n",
    "$$\n",
    "\n",
    "or \n",
    "$$\n",
    "\\mathbf{c_1} = \\begin{bmatrix} 1. \\\\ 2 - 1./\\epsilon \\\\ \\end{bmatrix} \\approx \\begin{bmatrix} 1. \\\\  -1./\\epsilon \\\\ \\end{bmatrix}\n",
    "$$\n",
    "in finite precision...Likewise $U_1$ in finite precisions solve\n",
    "$$\n",
    "    \\begin{bmatrix} \\epsilon & 1 \\\\ 0  & - \\frac{1}{\\epsilon} \\\\ \\end{bmatrix}\\mathbf{x_1} = \\begin{bmatrix} 1. \\\\  -\\frac{1}{\\epsilon} \\\\ \\end{bmatrix}\n",
    "$$ \n",
    "gives\n",
    "$$\n",
    "    \\mathbf{x_1} = \\begin{bmatrix} 0.\\\\ 1 \\\\ \\end{bmatrix} \n",
    "$$\n",
    "\n",
    "The other problem gives \n",
    "\n",
    "$$\\mathbf{c_2} = \\begin{bmatrix} 2 \\\\ 1 -2\\epsilon \\\\ \\end{bmatrix}\\approx\\begin{bmatrix} 2 \\\\ 1 \\\\ \\end{bmatrix}\n",
    "$$\n",
    "\n",
    "and\n",
    "\n",
    "$$\\mathbf{x_2} = \\begin{bmatrix} 1 \\\\ 1\\\\ \\end{bmatrix}\n",
    "$$\n",
    "which is different"
   ]
  },
  {
   "cell_type": "markdown",
   "metadata": {
    "deletable": false,
    "editable": false,
    "nbgrader": {
     "cell_type": "markdown",
     "checksum": "a7618c89843f8c4e4e6e3a2bca64446c",
     "grade": false,
     "grade_id": "cell-b8a0da20128bddae",
     "locked": true,
     "schema_version": 3,
     "solution": false,
     "task": false
    }
   },
   "source": [
    "**(d)**  [6 pts] Check your solutions using numpy.  \n",
    "\n",
    "For each problem \n",
    "* Calculate the solution using $L\\mathbf{c}=\\mathbf{b}$, $U\\mathbf{x}=\\mathbf{c}$ for each pair of $L,U$ derived above (you can use numpy here with $\\epsilon=0.1\\epsilon_{mach}$)\n",
    "* Calculate the 1-condition number for each $L$ and $U$ \n",
    "\n",
    "Briefly explain these results\n"
   ]
  },
  {
   "cell_type": "code",
   "execution_count": 21,
   "metadata": {
    "deletable": false,
    "nbgrader": {
     "cell_type": "code",
     "checksum": "344ff4ea570762b143d206c2c8a234d1",
     "grade": true,
     "grade_id": "cell-4da8bf6a9034a983",
     "locked": false,
     "points": 4,
     "schema_version": 3,
     "solution": true,
     "task": false
    }
   },
   "outputs": [
    {
     "name": "stdout",
     "output_type": "stream",
     "text": [
      "Solutions for A_1:\n",
      "\tc_1 =[ 1.000000000000000e+00 -4.503599627370496e+16]\n",
      "\tx_1 =[0. 1.]\n",
      "\n",
      "condition number for L and U for A_1:\n",
      "\tk (L1) = 2.028240960365167e+33\n",
      "\tk (U1) = 2.028240960365167e+33\n",
      "Solutions for A_2:\n",
      "\tc_2 =[2. 1.]\n",
      "\tx_2 =[1. 1.]\n",
      "\n",
      "condition number for L and U for A_2:\n",
      "\tk (L2) = 1.0\n",
      "\tk (U2) = 4.0\n"
     ]
    }
   ],
   "source": [
    "# YOUR CODE HERE\n",
    "\n",
    "L = numpy.array([[1, 0],[1/eps,1]])\n",
    "U = numpy.array([[eps, 1],[0, 1-1/eps]])\n",
    "b = numpy.array([1,2])\n",
    "c = numpy.linalg.solve(L, b)\n",
    "x = numpy.linalg.solve(U, c)\n",
    "Ucond = numpy.linalg.cond(U, 1)\n",
    "Lcond = numpy.linalg.cond(L, 1)\n",
    "\n",
    "print('Solutions for A_1:')\n",
    "print(f'\\tc_1 ={c}')\n",
    "print(f'\\tx_1 ={x}')\n",
    "print('\\ncondition number for L and U for A_1:')\n",
    "print(f'\\tk (L1) = {Lcond}')\n",
    "print(f'\\tk (U1) = {Ucond}')\n",
    "\n",
    "L2 = numpy.array([[1, 0],[eps,1]])\n",
    "U2 = numpy.array([[1, 1],[0, 1-eps]])\n",
    "b2 = numpy.array([2,1])\n",
    "c2 = numpy.linalg.solve(L2, b2)\n",
    "x2 = numpy.linalg.solve(U2, c2)\n",
    "U2cond = numpy.linalg.cond(U2, 1)\n",
    "L2cond = numpy.linalg.cond(L2, 1)\n",
    "\n",
    "print('Solutions for A_2:')\n",
    "print(f'\\tc_2 ={c2}')\n",
    "print(f'\\tx_2 ={x2}')\n",
    "print('\\ncondition number for L and U for A_2:')\n",
    "print(f'\\tk (L2) = {L2cond}')\n",
    "print(f'\\tk (U2) = {U2cond}')\n"
   ]
  },
  {
   "cell_type": "markdown",
   "metadata": {
    "deletable": false,
    "nbgrader": {
     "cell_type": "markdown",
     "checksum": "a21c7eb1ed94668b06afc91276dbe974",
     "grade": true,
     "grade_id": "cell-dd5a0aeb1c479324",
     "locked": false,
     "points": 2,
     "schema_version": 3,
     "solution": true,
     "task": false
    }
   },
   "source": []
  }
 ],
 "metadata": {
  "kernelspec": {
   "display_name": "Python 3",
   "language": "python",
   "name": "python3"
  },
  "language_info": {
   "codemirror_mode": {
    "name": "ipython",
    "version": 3
   },
   "file_extension": ".py",
   "mimetype": "text/x-python",
   "name": "python",
   "nbconvert_exporter": "python",
   "pygments_lexer": "ipython3",
   "version": "3.8.8"
  },
  "latex_envs": {
   "bibliofile": "biblio.bib",
   "cite_by": "apalike",
   "current_citInitial": 1,
   "eqLabelWithNumbers": true,
   "eqNumInitial": 0
  }
 },
 "nbformat": 4,
 "nbformat_minor": 4
}
